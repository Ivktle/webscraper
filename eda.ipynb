{
 "cells": [
  {
   "cell_type": "code",
   "execution_count": 154,
   "id": "b01fde19",
   "metadata": {},
   "outputs": [],
   "source": [
    "import pandas as pd\n",
    "import matplotlib.pyplot as plt\n",
    "import seaborn as sns\n",
    "\n",
    "RAND = 10"
   ]
  },
  {
   "cell_type": "markdown",
   "id": "f15c060c",
   "metadata": {},
   "source": [
    "# Импорт данных"
   ]
  },
  {
   "cell_type": "code",
   "execution_count": 155,
   "id": "30bc669f",
   "metadata": {},
   "outputs": [],
   "source": [
    "df_items = pd.read_csv('C:/Users/Oktyabrina/Desktop/webscraper/product.csv')\n",
    "df_items = df_items.drop(['nmFeedbacks','rating','root','optionId'], axis=1)\n",
    "df_review = pd.read_csv('C:/Users/Oktyabrina/Desktop/webscraper/review.csv')\n",
    "df_review = df_review.merge(df_items, left_on='Артикул', right_on='id')\n",
    "df_review = df_review.drop(['id'], axis=1)"
   ]
  },
  {
   "cell_type": "code",
   "execution_count": 156,
   "id": "6f2b741c",
   "metadata": {},
   "outputs": [
    {
     "data": {
      "text/html": [
       "<div>\n",
       "<style scoped>\n",
       "    .dataframe tbody tr th:only-of-type {\n",
       "        vertical-align: middle;\n",
       "    }\n",
       "\n",
       "    .dataframe tbody tr th {\n",
       "        vertical-align: top;\n",
       "    }\n",
       "\n",
       "    .dataframe thead th {\n",
       "        text-align: right;\n",
       "    }\n",
       "</style>\n",
       "<table border=\"1\" class=\"dataframe\">\n",
       "  <thead>\n",
       "    <tr style=\"text-align: right;\">\n",
       "      <th></th>\n",
       "      <th>Автор</th>\n",
       "      <th>Статус заказа</th>\n",
       "      <th>Дата отзыва</th>\n",
       "      <th>Кол-во звезд</th>\n",
       "      <th>Текст отзыва</th>\n",
       "      <th>Артикул</th>\n",
       "      <th>Бренд</th>\n",
       "      <th>Наименование</th>\n",
       "      <th>Кол-во оценок</th>\n",
       "      <th>Общая оценка товара</th>\n",
       "      <th>Текущая цена до скидки</th>\n",
       "      <th>Текущая цена после скидки</th>\n",
       "    </tr>\n",
       "  </thead>\n",
       "  <tbody>\n",
       "    <tr>\n",
       "      <th>0</th>\n",
       "      <td>Покупатель Wildberries</td>\n",
       "      <td>Выкупили</td>\n",
       "      <td>Сегодня, 15:26</td>\n",
       "      <td>star5</td>\n",
       "      <td>Достоинства:Просто понравилась.</td>\n",
       "      <td>24716555.0</td>\n",
       "      <td>Асепта</td>\n",
       "      <td>Зубная паста от кровоточивости десен ASEPTA Ac...</td>\n",
       "      <td>8112</td>\n",
       "      <td>4.9</td>\n",
       "      <td>509.0</td>\n",
       "      <td>249.0</td>\n",
       "    </tr>\n",
       "    <tr>\n",
       "      <th>1</th>\n",
       "      <td>Ольга</td>\n",
       "      <td>Выкупили</td>\n",
       "      <td>Сегодня, 15:16</td>\n",
       "      <td>star5</td>\n",
       "      <td>Хорошая</td>\n",
       "      <td>24716555.0</td>\n",
       "      <td>Асепта</td>\n",
       "      <td>Зубная паста от кровоточивости десен ASEPTA Ac...</td>\n",
       "      <td>8112</td>\n",
       "      <td>4.9</td>\n",
       "      <td>509.0</td>\n",
       "      <td>249.0</td>\n",
       "    </tr>\n",
       "    <tr>\n",
       "      <th>2</th>\n",
       "      <td>Светлана</td>\n",
       "      <td>Выкупили</td>\n",
       "      <td>07 июля, 20:44</td>\n",
       "      <td>star5</td>\n",
       "      <td>Достоинства:Давно пользуемся этой пастой, очен...</td>\n",
       "      <td>24716555.0</td>\n",
       "      <td>Асепта</td>\n",
       "      <td>Зубная паста от кровоточивости десен ASEPTA Ac...</td>\n",
       "      <td>8112</td>\n",
       "      <td>4.9</td>\n",
       "      <td>509.0</td>\n",
       "      <td>249.0</td>\n",
       "    </tr>\n",
       "    <tr>\n",
       "      <th>3</th>\n",
       "      <td>Татьяна</td>\n",
       "      <td>Выкупили</td>\n",
       "      <td>07 июля, 13:07</td>\n",
       "      <td>star5</td>\n",
       "      <td>Достоинства:Хорошая паста</td>\n",
       "      <td>24716555.0</td>\n",
       "      <td>Асепта</td>\n",
       "      <td>Зубная паста от кровоточивости десен ASEPTA Ac...</td>\n",
       "      <td>8112</td>\n",
       "      <td>4.9</td>\n",
       "      <td>509.0</td>\n",
       "      <td>249.0</td>\n",
       "    </tr>\n",
       "    <tr>\n",
       "      <th>4</th>\n",
       "      <td>Марина</td>\n",
       "      <td>Выкупили</td>\n",
       "      <td>07 июля, 06:34</td>\n",
       "      <td>star5</td>\n",
       "      <td>Достоинства:Хорошая зубная паста.. Посоветовал...</td>\n",
       "      <td>24716555.0</td>\n",
       "      <td>Асепта</td>\n",
       "      <td>Зубная паста от кровоточивости десен ASEPTA Ac...</td>\n",
       "      <td>8112</td>\n",
       "      <td>4.9</td>\n",
       "      <td>509.0</td>\n",
       "      <td>249.0</td>\n",
       "    </tr>\n",
       "  </tbody>\n",
       "</table>\n",
       "</div>"
      ],
      "text/plain": [
       "                    Автор Статус заказа     Дата отзыва Кол-во звезд  \\\n",
       "0  Покупатель Wildberries      Выкупили  Сегодня, 15:26        star5   \n",
       "1                   Ольга      Выкупили  Сегодня, 15:16        star5   \n",
       "2                Светлана      Выкупили  07 июля, 20:44        star5   \n",
       "3                 Татьяна      Выкупили  07 июля, 13:07        star5   \n",
       "4                  Марина      Выкупили  07 июля, 06:34        star5   \n",
       "\n",
       "                                        Текст отзыва     Артикул   Бренд  \\\n",
       "0                    Достоинства:Просто понравилась.  24716555.0  Асепта   \n",
       "1                                            Хорошая  24716555.0  Асепта   \n",
       "2  Достоинства:Давно пользуемся этой пастой, очен...  24716555.0  Асепта   \n",
       "3                          Достоинства:Хорошая паста  24716555.0  Асепта   \n",
       "4  Достоинства:Хорошая зубная паста.. Посоветовал...  24716555.0  Асепта   \n",
       "\n",
       "                                        Наименование  Кол-во оценок  \\\n",
       "0  Зубная паста от кровоточивости десен ASEPTA Ac...           8112   \n",
       "1  Зубная паста от кровоточивости десен ASEPTA Ac...           8112   \n",
       "2  Зубная паста от кровоточивости десен ASEPTA Ac...           8112   \n",
       "3  Зубная паста от кровоточивости десен ASEPTA Ac...           8112   \n",
       "4  Зубная паста от кровоточивости десен ASEPTA Ac...           8112   \n",
       "\n",
       "   Общая оценка товара  Текущая цена до скидки  Текущая цена после скидки  \n",
       "0                  4.9                   509.0                      249.0  \n",
       "1                  4.9                   509.0                      249.0  \n",
       "2                  4.9                   509.0                      249.0  \n",
       "3                  4.9                   509.0                      249.0  \n",
       "4                  4.9                   509.0                      249.0  "
      ]
     },
     "execution_count": 156,
     "metadata": {},
     "output_type": "execute_result"
    }
   ],
   "source": [
    "df_review = df_review.rename(columns={'brand':'Бренд','name':'Наименование','feedbacks':'Кол-во оценок',\n",
    "                                      'reviewRating':'Общая оценка товара','basic':'Текущая цена до скидки','product':'Текущая цена после скидки',})\n",
    "df_review.head(5)"
   ]
  },
  {
   "cell_type": "code",
   "execution_count": 157,
   "id": "300bdf37",
   "metadata": {},
   "outputs": [],
   "source": [
    "df_review = df_review.iloc[1:]"
   ]
  },
  {
   "cell_type": "markdown",
   "id": "1dce7fc1",
   "metadata": {},
   "source": [
    "**Дату отзывов необходимо преобразовать в нормальную дату**"
   ]
  },
  {
   "cell_type": "markdown",
   "id": "703f6e1a",
   "metadata": {},
   "source": [
    "На сайте Вайлдбериз у отзывов, которые были оставлены вчера-сегодня, вместо даты пишут \"Вчера\" или \"Сегодня\""
   ]
  },
  {
   "cell_type": "code",
   "execution_count": 158,
   "id": "4eba0600",
   "metadata": {},
   "outputs": [],
   "source": [
    "date_dict = {\n",
    "    'Сегодня': '09 июля',\n",
    "    'Вчера': '08 июля'\n",
    "}\n",
    "\n",
    "for old_value,new_value in date_dict.items():\n",
    "    df_review['Дата отзыва']=df_review['Дата отзыва'].str.replace(old_value,new_value, regex=True)\n"
   ]
  },
  {
   "cell_type": "code",
   "execution_count": 159,
   "id": "ebfe1713",
   "metadata": {},
   "outputs": [],
   "source": [
    "df_review[['date_temp','time']] = df_review['Дата отзыва'].str.replace(' • Дополнен','').str.split(',', expand=True)\n",
    "df_review[['day','month','year']]=df_review['date_temp'].str.split(expand=True)\n",
    "df_review['year']=df_review['year'].fillna('2025')"
   ]
  },
  {
   "cell_type": "markdown",
   "id": "8021eb12",
   "metadata": {},
   "source": [
    "Названия месяцев написаны на русском со склонением. Необходимо вместо них подставить номер месяца"
   ]
  },
  {
   "cell_type": "code",
   "execution_count": 160,
   "id": "17b90c90",
   "metadata": {},
   "outputs": [],
   "source": [
    "month_dict = {'января':'01',\n",
    "              'февраля':'02',\n",
    "              'марта':'03',\n",
    "              'апреля':'04',\n",
    "              'мая':'05',\n",
    "              'июня':'06',\n",
    "              'июля':'07',\n",
    "              'августа':'08',\n",
    "              'сентября':'09',\n",
    "              'октября':'10',\n",
    "              'ноября':'11',\n",
    "              'декабря':'12'}\n",
    "for old_value,new_value in month_dict.items():\n",
    "    df_review['month']=df_review['month'].str.replace(old_value,new_value, regex=False)\n",
    "\n",
    "df_review['Дата'] = pd.to_datetime(\n",
    "    df_review['day']+'.'+df_review['month']+'.'+df_review['year']+df_review['time'],\n",
    "    format=\"%d.%m.%Y %H:%M\"\n",
    ")"
   ]
  },
  {
   "cell_type": "code",
   "execution_count": 161,
   "id": "097d723f",
   "metadata": {},
   "outputs": [
    {
     "data": {
      "text/html": [
       "<div>\n",
       "<style scoped>\n",
       "    .dataframe tbody tr th:only-of-type {\n",
       "        vertical-align: middle;\n",
       "    }\n",
       "\n",
       "    .dataframe tbody tr th {\n",
       "        vertical-align: top;\n",
       "    }\n",
       "\n",
       "    .dataframe thead th {\n",
       "        text-align: right;\n",
       "    }\n",
       "</style>\n",
       "<table border=\"1\" class=\"dataframe\">\n",
       "  <thead>\n",
       "    <tr style=\"text-align: right;\">\n",
       "      <th></th>\n",
       "      <th>Автор</th>\n",
       "      <th>Статус заказа</th>\n",
       "      <th>Дата отзыва</th>\n",
       "      <th>Кол-во звезд</th>\n",
       "      <th>Текст отзыва</th>\n",
       "      <th>Артикул</th>\n",
       "      <th>Бренд</th>\n",
       "      <th>Наименование</th>\n",
       "      <th>Кол-во оценок</th>\n",
       "      <th>Общая оценка товара</th>\n",
       "      <th>Текущая цена до скидки</th>\n",
       "      <th>Текущая цена после скидки</th>\n",
       "      <th>date_temp</th>\n",
       "      <th>time</th>\n",
       "      <th>day</th>\n",
       "      <th>month</th>\n",
       "      <th>year</th>\n",
       "      <th>Дата</th>\n",
       "    </tr>\n",
       "  </thead>\n",
       "  <tbody>\n",
       "    <tr>\n",
       "      <th>1</th>\n",
       "      <td>Ольга</td>\n",
       "      <td>Выкупили</td>\n",
       "      <td>09 июля, 15:16</td>\n",
       "      <td>star5</td>\n",
       "      <td>Хорошая</td>\n",
       "      <td>24716555.0</td>\n",
       "      <td>Асепта</td>\n",
       "      <td>Зубная паста от кровоточивости десен ASEPTA Ac...</td>\n",
       "      <td>8112</td>\n",
       "      <td>4.9</td>\n",
       "      <td>509.0</td>\n",
       "      <td>249.0</td>\n",
       "      <td>09 июля</td>\n",
       "      <td>15:16</td>\n",
       "      <td>09</td>\n",
       "      <td>07</td>\n",
       "      <td>2025</td>\n",
       "      <td>2025-07-09 15:16:00</td>\n",
       "    </tr>\n",
       "    <tr>\n",
       "      <th>2</th>\n",
       "      <td>Светлана</td>\n",
       "      <td>Выкупили</td>\n",
       "      <td>07 июля, 20:44</td>\n",
       "      <td>star5</td>\n",
       "      <td>Достоинства:Давно пользуемся этой пастой, очен...</td>\n",
       "      <td>24716555.0</td>\n",
       "      <td>Асепта</td>\n",
       "      <td>Зубная паста от кровоточивости десен ASEPTA Ac...</td>\n",
       "      <td>8112</td>\n",
       "      <td>4.9</td>\n",
       "      <td>509.0</td>\n",
       "      <td>249.0</td>\n",
       "      <td>07 июля</td>\n",
       "      <td>20:44</td>\n",
       "      <td>07</td>\n",
       "      <td>07</td>\n",
       "      <td>2025</td>\n",
       "      <td>2025-07-07 20:44:00</td>\n",
       "    </tr>\n",
       "    <tr>\n",
       "      <th>3</th>\n",
       "      <td>Татьяна</td>\n",
       "      <td>Выкупили</td>\n",
       "      <td>07 июля, 13:07</td>\n",
       "      <td>star5</td>\n",
       "      <td>Достоинства:Хорошая паста</td>\n",
       "      <td>24716555.0</td>\n",
       "      <td>Асепта</td>\n",
       "      <td>Зубная паста от кровоточивости десен ASEPTA Ac...</td>\n",
       "      <td>8112</td>\n",
       "      <td>4.9</td>\n",
       "      <td>509.0</td>\n",
       "      <td>249.0</td>\n",
       "      <td>07 июля</td>\n",
       "      <td>13:07</td>\n",
       "      <td>07</td>\n",
       "      <td>07</td>\n",
       "      <td>2025</td>\n",
       "      <td>2025-07-07 13:07:00</td>\n",
       "    </tr>\n",
       "    <tr>\n",
       "      <th>4</th>\n",
       "      <td>Марина</td>\n",
       "      <td>Выкупили</td>\n",
       "      <td>07 июля, 06:34</td>\n",
       "      <td>star5</td>\n",
       "      <td>Достоинства:Хорошая зубная паста.. Посоветовал...</td>\n",
       "      <td>24716555.0</td>\n",
       "      <td>Асепта</td>\n",
       "      <td>Зубная паста от кровоточивости десен ASEPTA Ac...</td>\n",
       "      <td>8112</td>\n",
       "      <td>4.9</td>\n",
       "      <td>509.0</td>\n",
       "      <td>249.0</td>\n",
       "      <td>07 июля</td>\n",
       "      <td>06:34</td>\n",
       "      <td>07</td>\n",
       "      <td>07</td>\n",
       "      <td>2025</td>\n",
       "      <td>2025-07-07 06:34:00</td>\n",
       "    </tr>\n",
       "    <tr>\n",
       "      <th>5</th>\n",
       "      <td>Василина</td>\n",
       "      <td>Выкупили</td>\n",
       "      <td>06 июля, 20:45</td>\n",
       "      <td>star5</td>\n",
       "      <td>Достоинства:Действительно помогаетКомментарий:...</td>\n",
       "      <td>24716555.0</td>\n",
       "      <td>Асепта</td>\n",
       "      <td>Зубная паста от кровоточивости десен ASEPTA Ac...</td>\n",
       "      <td>8112</td>\n",
       "      <td>4.9</td>\n",
       "      <td>509.0</td>\n",
       "      <td>249.0</td>\n",
       "      <td>06 июля</td>\n",
       "      <td>20:45</td>\n",
       "      <td>06</td>\n",
       "      <td>07</td>\n",
       "      <td>2025</td>\n",
       "      <td>2025-07-06 20:45:00</td>\n",
       "    </tr>\n",
       "  </tbody>\n",
       "</table>\n",
       "</div>"
      ],
      "text/plain": [
       "      Автор Статус заказа     Дата отзыва Кол-во звезд  \\\n",
       "1     Ольга      Выкупили  09 июля, 15:16        star5   \n",
       "2  Светлана      Выкупили  07 июля, 20:44        star5   \n",
       "3   Татьяна      Выкупили  07 июля, 13:07        star5   \n",
       "4    Марина      Выкупили  07 июля, 06:34        star5   \n",
       "5  Василина      Выкупили  06 июля, 20:45        star5   \n",
       "\n",
       "                                        Текст отзыва     Артикул   Бренд  \\\n",
       "1                                            Хорошая  24716555.0  Асепта   \n",
       "2  Достоинства:Давно пользуемся этой пастой, очен...  24716555.0  Асепта   \n",
       "3                          Достоинства:Хорошая паста  24716555.0  Асепта   \n",
       "4  Достоинства:Хорошая зубная паста.. Посоветовал...  24716555.0  Асепта   \n",
       "5  Достоинства:Действительно помогаетКомментарий:...  24716555.0  Асепта   \n",
       "\n",
       "                                        Наименование  Кол-во оценок  \\\n",
       "1  Зубная паста от кровоточивости десен ASEPTA Ac...           8112   \n",
       "2  Зубная паста от кровоточивости десен ASEPTA Ac...           8112   \n",
       "3  Зубная паста от кровоточивости десен ASEPTA Ac...           8112   \n",
       "4  Зубная паста от кровоточивости десен ASEPTA Ac...           8112   \n",
       "5  Зубная паста от кровоточивости десен ASEPTA Ac...           8112   \n",
       "\n",
       "   Общая оценка товара  Текущая цена до скидки  Текущая цена после скидки  \\\n",
       "1                  4.9                   509.0                      249.0   \n",
       "2                  4.9                   509.0                      249.0   \n",
       "3                  4.9                   509.0                      249.0   \n",
       "4                  4.9                   509.0                      249.0   \n",
       "5                  4.9                   509.0                      249.0   \n",
       "\n",
       "  date_temp    time day month  year                Дата  \n",
       "1   09 июля   15:16  09    07  2025 2025-07-09 15:16:00  \n",
       "2   07 июля   20:44  07    07  2025 2025-07-07 20:44:00  \n",
       "3   07 июля   13:07  07    07  2025 2025-07-07 13:07:00  \n",
       "4   07 июля   06:34  07    07  2025 2025-07-07 06:34:00  \n",
       "5   06 июля   20:45  06    07  2025 2025-07-06 20:45:00  "
      ]
     },
     "execution_count": 161,
     "metadata": {},
     "output_type": "execute_result"
    }
   ],
   "source": [
    "df_review.head(5)"
   ]
  },
  {
   "cell_type": "markdown",
   "id": "e85c16f5",
   "metadata": {},
   "source": [
    "Необходимо удалить все лишние столбцы с датами отзыва и оставить только обработанный и преобразованный в datetime формат"
   ]
  },
  {
   "cell_type": "code",
   "execution_count": 162,
   "id": "07f3b93c",
   "metadata": {},
   "outputs": [],
   "source": [
    "df_review = df_review.drop(['Дата отзыва','date_temp','time','day','month','year'], axis=1)"
   ]
  },
  {
   "cell_type": "markdown",
   "id": "276ed7b6",
   "metadata": {},
   "source": [
    "Из столбца Кол-во звезд удаляем слово star, чтобы в столбце остались только числовые значения"
   ]
  },
  {
   "cell_type": "code",
   "execution_count": 163,
   "id": "18cb5c85",
   "metadata": {},
   "outputs": [],
   "source": [
    "df_review['Кол-во звезд']=df_review['Кол-во звезд'].str.replace('star','')"
   ]
  },
  {
   "cell_type": "markdown",
   "id": "dc21dc60",
   "metadata": {},
   "source": [
    "Кол-во пустых значений в столбцах"
   ]
  },
  {
   "cell_type": "code",
   "execution_count": 164,
   "id": "82da05f5",
   "metadata": {},
   "outputs": [
    {
     "data": {
      "text/plain": [
       "Автор                         0\n",
       "Статус заказа                91\n",
       "Кол-во звезд                  0\n",
       "Текст отзыва                  4\n",
       "Артикул                       0\n",
       "Бренд                         0\n",
       "Наименование                  0\n",
       "Кол-во оценок                 0\n",
       "Общая оценка товара           0\n",
       "Текущая цена до скидки        0\n",
       "Текущая цена после скидки     0\n",
       "Дата                          0\n",
       "dtype: int64"
      ]
     },
     "execution_count": 164,
     "metadata": {},
     "output_type": "execute_result"
    }
   ],
   "source": [
    "df_review.isna().sum()"
   ]
  },
  {
   "cell_type": "markdown",
   "id": "80a3804b",
   "metadata": {},
   "source": [
    "У столбца Статус заказа очень много пустых значения, пустые ячейки заполняем значением Неизвестно\n"
   ]
  },
  {
   "cell_type": "code",
   "execution_count": 165,
   "id": "a8787711",
   "metadata": {},
   "outputs": [],
   "source": [
    "df_review['Статус заказа']=df_review['Статус заказа'].fillna('Неизвестно')"
   ]
  },
  {
   "cell_type": "markdown",
   "id": "45e18a20",
   "metadata": {},
   "source": [
    "В столбце Текст отзыва тоже есть пустые значения, необходимо заполнить значение Пусто"
   ]
  },
  {
   "cell_type": "code",
   "execution_count": 166,
   "id": "de710eaf",
   "metadata": {},
   "outputs": [],
   "source": [
    "df_review['Текст отзыва']=df_review['Текст отзыва'].fillna('Пусто')"
   ]
  },
  {
   "cell_type": "markdown",
   "id": "4d8f7a33",
   "metadata": {},
   "source": [
    "Необходимо у столбца Кол-во звезд задать числовой тип"
   ]
  },
  {
   "cell_type": "code",
   "execution_count": 167,
   "id": "7918a03a",
   "metadata": {},
   "outputs": [
    {
     "name": "stdout",
     "output_type": "stream",
     "text": [
      "<class 'pandas.core.frame.DataFrame'>\n",
      "RangeIndex: 644 entries, 1 to 644\n",
      "Data columns (total 12 columns):\n",
      " #   Column                     Non-Null Count  Dtype         \n",
      "---  ------                     --------------  -----         \n",
      " 0   Автор                      644 non-null    object        \n",
      " 1   Статус заказа              644 non-null    object        \n",
      " 2   Кол-во звезд               644 non-null    object        \n",
      " 3   Текст отзыва               644 non-null    object        \n",
      " 4   Артикул                    644 non-null    float64       \n",
      " 5   Бренд                      644 non-null    object        \n",
      " 6   Наименование               644 non-null    object        \n",
      " 7   Кол-во оценок              644 non-null    int64         \n",
      " 8   Общая оценка товара        644 non-null    float64       \n",
      " 9   Текущая цена до скидки     644 non-null    float64       \n",
      " 10  Текущая цена после скидки  644 non-null    float64       \n",
      " 11  Дата                       644 non-null    datetime64[ns]\n",
      "dtypes: datetime64[ns](1), float64(4), int64(1), object(6)\n",
      "memory usage: 60.5+ KB\n"
     ]
    }
   ],
   "source": [
    "df_review.info()"
   ]
  },
  {
   "cell_type": "code",
   "execution_count": 168,
   "id": "33eb2f43",
   "metadata": {},
   "outputs": [
    {
     "name": "stdout",
     "output_type": "stream",
     "text": [
      "Уникальные значения столбца Кол-во звезд: ['5' '4' '3' '1' '2']\n"
     ]
    }
   ],
   "source": [
    "print(f\"Уникальные значения столбца Кол-во звезд: {df_review['Кол-во звезд'].unique()}\")"
   ]
  },
  {
   "cell_type": "code",
   "execution_count": 169,
   "id": "33afb5dc",
   "metadata": {},
   "outputs": [],
   "source": [
    "df_review=df_review.astype({'Кол-во звезд': int\n",
    "                            })"
   ]
  },
  {
   "cell_type": "markdown",
   "id": "11c05cbd",
   "metadata": {},
   "source": [
    "Размер датасета"
   ]
  },
  {
   "cell_type": "code",
   "execution_count": 170,
   "id": "57dc5940",
   "metadata": {},
   "outputs": [
    {
     "data": {
      "text/plain": [
       "(644, 12)"
      ]
     },
     "execution_count": 170,
     "metadata": {},
     "output_type": "execute_result"
    }
   ],
   "source": [
    "df_review.shape"
   ]
  },
  {
   "cell_type": "markdown",
   "id": "2b127de7",
   "metadata": {},
   "source": [
    "У столбца автор очень мало уникальных значений. У даты скорее всего из-за времени"
   ]
  },
  {
   "cell_type": "code",
   "execution_count": 171,
   "id": "9241e0e9",
   "metadata": {},
   "outputs": [
    {
     "data": {
      "text/plain": [
       "Автор                        148\n",
       "Статус заказа                  3\n",
       "Кол-во звезд                   5\n",
       "Текст отзыва                 622\n",
       "Артикул                       15\n",
       "Бренд                          2\n",
       "Наименование                  14\n",
       "Кол-во оценок                 15\n",
       "Общая оценка товара            8\n",
       "Текущая цена до скидки        15\n",
       "Текущая цена после скидки     15\n",
       "Дата                         643\n",
       "dtype: int64"
      ]
     },
     "execution_count": 171,
     "metadata": {},
     "output_type": "execute_result"
    }
   ],
   "source": [
    "df_review.nunique()"
   ]
  },
  {
   "cell_type": "markdown",
   "id": "ab2025e0",
   "metadata": {},
   "source": [
    "Очень много анонимных отзывов"
   ]
  },
  {
   "cell_type": "code",
   "execution_count": 172,
   "id": "7406a5f1",
   "metadata": {},
   "outputs": [
    {
     "data": {
      "text/plain": [
       "Автор\n",
       "Патимат                    1\n",
       "т                          1\n",
       "Кира                       1\n",
       "Деметра                    1\n",
       "Никита                     1\n",
       "                          ..\n",
       "Наталья                   29\n",
       "Ольга                     38\n",
       "Елена                     41\n",
       "Татьяна                   50\n",
       "Покупатель Wildberries    85\n",
       "Name: count, Length: 148, dtype: int64"
      ]
     },
     "execution_count": 172,
     "metadata": {},
     "output_type": "execute_result"
    }
   ],
   "source": [
    "df_review['Автор'].value_counts(ascending=True)"
   ]
  },
  {
   "cell_type": "markdown",
   "id": "5a4ac7fc",
   "metadata": {},
   "source": [
    "Если при расчете кол-ва уникальных значений столбца Дата смотреть только на дату, то кол-во будет меньше"
   ]
  },
  {
   "cell_type": "code",
   "execution_count": 173,
   "id": "f60480c1",
   "metadata": {},
   "outputs": [
    {
     "data": {
      "text/plain": [
       "269"
      ]
     },
     "execution_count": 173,
     "metadata": {},
     "output_type": "execute_result"
    }
   ],
   "source": [
    "df_review['Дата'].dt.date.nunique()"
   ]
  },
  {
   "cell_type": "markdown",
   "id": "ee540530",
   "metadata": {},
   "source": [
    "Основная описательная статистика\n",
    "Для просмотра числовых данных, надо исключить Артикул"
   ]
  },
  {
   "cell_type": "code",
   "execution_count": 174,
   "id": "f4e6dc5f",
   "metadata": {},
   "outputs": [
    {
     "data": {
      "text/html": [
       "<div>\n",
       "<style scoped>\n",
       "    .dataframe tbody tr th:only-of-type {\n",
       "        vertical-align: middle;\n",
       "    }\n",
       "\n",
       "    .dataframe tbody tr th {\n",
       "        vertical-align: top;\n",
       "    }\n",
       "\n",
       "    .dataframe thead th {\n",
       "        text-align: right;\n",
       "    }\n",
       "</style>\n",
       "<table border=\"1\" class=\"dataframe\">\n",
       "  <thead>\n",
       "    <tr style=\"text-align: right;\">\n",
       "      <th></th>\n",
       "      <th>Кол-во звезд</th>\n",
       "      <th>Кол-во оценок</th>\n",
       "      <th>Общая оценка товара</th>\n",
       "      <th>Текущая цена до скидки</th>\n",
       "      <th>Текущая цена после скидки</th>\n",
       "      <th>Дата</th>\n",
       "    </tr>\n",
       "  </thead>\n",
       "  <tbody>\n",
       "    <tr>\n",
       "      <th>count</th>\n",
       "      <td>644.000000</td>\n",
       "      <td>644.000000</td>\n",
       "      <td>644.000000</td>\n",
       "      <td>644.000000</td>\n",
       "      <td>644.000000</td>\n",
       "      <td>644</td>\n",
       "    </tr>\n",
       "    <tr>\n",
       "      <th>mean</th>\n",
       "      <td>4.582298</td>\n",
       "      <td>4659.723602</td>\n",
       "      <td>4.803571</td>\n",
       "      <td>669.363354</td>\n",
       "      <td>396.467391</td>\n",
       "      <td>2025-02-17 13:43:22.639751424</td>\n",
       "    </tr>\n",
       "    <tr>\n",
       "      <th>min</th>\n",
       "      <td>1.000000</td>\n",
       "      <td>1.000000</td>\n",
       "      <td>3.700000</td>\n",
       "      <td>475.000000</td>\n",
       "      <td>249.000000</td>\n",
       "      <td>2022-09-07 22:21:00</td>\n",
       "    </tr>\n",
       "    <tr>\n",
       "      <th>25%</th>\n",
       "      <td>5.000000</td>\n",
       "      <td>4705.000000</td>\n",
       "      <td>4.900000</td>\n",
       "      <td>509.000000</td>\n",
       "      <td>249.000000</td>\n",
       "      <td>2024-12-30 08:00:45</td>\n",
       "    </tr>\n",
       "    <tr>\n",
       "      <th>50%</th>\n",
       "      <td>5.000000</td>\n",
       "      <td>4705.000000</td>\n",
       "      <td>4.900000</td>\n",
       "      <td>654.000000</td>\n",
       "      <td>348.000000</td>\n",
       "      <td>2025-03-05 04:42:30</td>\n",
       "    </tr>\n",
       "    <tr>\n",
       "      <th>75%</th>\n",
       "      <td>5.000000</td>\n",
       "      <td>8112.000000</td>\n",
       "      <td>4.900000</td>\n",
       "      <td>654.000000</td>\n",
       "      <td>348.000000</td>\n",
       "      <td>2025-05-06 16:19:30</td>\n",
       "    </tr>\n",
       "    <tr>\n",
       "      <th>max</th>\n",
       "      <td>5.000000</td>\n",
       "      <td>8112.000000</td>\n",
       "      <td>5.000000</td>\n",
       "      <td>2880.000000</td>\n",
       "      <td>1969.000000</td>\n",
       "      <td>2025-07-09 15:16:00</td>\n",
       "    </tr>\n",
       "    <tr>\n",
       "      <th>std</th>\n",
       "      <td>1.045347</td>\n",
       "      <td>2780.473389</td>\n",
       "      <td>0.279195</td>\n",
       "      <td>311.804533</td>\n",
       "      <td>246.216421</td>\n",
       "      <td>NaN</td>\n",
       "    </tr>\n",
       "  </tbody>\n",
       "</table>\n",
       "</div>"
      ],
      "text/plain": [
       "       Кол-во звезд  Кол-во оценок  Общая оценка товара  \\\n",
       "count    644.000000     644.000000           644.000000   \n",
       "mean       4.582298    4659.723602             4.803571   \n",
       "min        1.000000       1.000000             3.700000   \n",
       "25%        5.000000    4705.000000             4.900000   \n",
       "50%        5.000000    4705.000000             4.900000   \n",
       "75%        5.000000    8112.000000             4.900000   \n",
       "max        5.000000    8112.000000             5.000000   \n",
       "std        1.045347    2780.473389             0.279195   \n",
       "\n",
       "       Текущая цена до скидки  Текущая цена после скидки  \\\n",
       "count              644.000000                 644.000000   \n",
       "mean               669.363354                 396.467391   \n",
       "min                475.000000                 249.000000   \n",
       "25%                509.000000                 249.000000   \n",
       "50%                654.000000                 348.000000   \n",
       "75%                654.000000                 348.000000   \n",
       "max               2880.000000                1969.000000   \n",
       "std                311.804533                 246.216421   \n",
       "\n",
       "                                Дата  \n",
       "count                            644  \n",
       "mean   2025-02-17 13:43:22.639751424  \n",
       "min              2022-09-07 22:21:00  \n",
       "25%              2024-12-30 08:00:45  \n",
       "50%              2025-03-05 04:42:30  \n",
       "75%              2025-05-06 16:19:30  \n",
       "max              2025-07-09 15:16:00  \n",
       "std                              NaN  "
      ]
     },
     "execution_count": 174,
     "metadata": {},
     "output_type": "execute_result"
    }
   ],
   "source": [
    "df_review.loc[:,df_review.columns!='Артикул'].describe()"
   ]
  },
  {
   "cell_type": "markdown",
   "id": "c008eab0",
   "metadata": {},
   "source": [
    "- Нет выбросов. Лушче Кол-во звезд и дату смотреть как нечисловые данные"
   ]
  },
  {
   "cell_type": "markdown",
   "id": "43d720f7",
   "metadata": {},
   "source": [
    "Оценка 5 чаще всего встречается"
   ]
  },
  {
   "cell_type": "code",
   "execution_count": 175,
   "id": "c36767e8",
   "metadata": {},
   "outputs": [
    {
     "data": {
      "text/plain": [
       "count     644\n",
       "unique      5\n",
       "top         5\n",
       "freq      528\n",
       "Name: Кол-во звезд, dtype: object"
      ]
     },
     "execution_count": 175,
     "metadata": {},
     "output_type": "execute_result"
    }
   ],
   "source": [
    "df_review['Кол-во звезд'].astype(str).describe()"
   ]
  },
  {
   "cell_type": "markdown",
   "id": "d13f2ffc",
   "metadata": {},
   "source": [
    "28 апреля 2025 было больше всего отзывов"
   ]
  },
  {
   "cell_type": "code",
   "execution_count": 176,
   "id": "477f78bc",
   "metadata": {},
   "outputs": [
    {
     "data": {
      "text/plain": [
       "count            644\n",
       "unique           269\n",
       "top       2025-04-28\n",
       "freq               8\n",
       "Name: Дата, dtype: object"
      ]
     },
     "execution_count": 176,
     "metadata": {},
     "output_type": "execute_result"
    }
   ],
   "source": [
    "df_review['Дата'].dt.date.describe()"
   ]
  },
  {
   "cell_type": "markdown",
   "id": "c966084e",
   "metadata": {},
   "source": [
    "Много анонимных отзывов. Чаще всего отзывы оставляют покупатели, которые выкупили товар"
   ]
  },
  {
   "cell_type": "code",
   "execution_count": 177,
   "id": "4798f329",
   "metadata": {},
   "outputs": [
    {
     "data": {
      "text/html": [
       "<div>\n",
       "<style scoped>\n",
       "    .dataframe tbody tr th:only-of-type {\n",
       "        vertical-align: middle;\n",
       "    }\n",
       "\n",
       "    .dataframe tbody tr th {\n",
       "        vertical-align: top;\n",
       "    }\n",
       "\n",
       "    .dataframe thead th {\n",
       "        text-align: right;\n",
       "    }\n",
       "</style>\n",
       "<table border=\"1\" class=\"dataframe\">\n",
       "  <thead>\n",
       "    <tr style=\"text-align: right;\">\n",
       "      <th></th>\n",
       "      <th>Автор</th>\n",
       "      <th>Статус заказа</th>\n",
       "      <th>Текст отзыва</th>\n",
       "      <th>Бренд</th>\n",
       "      <th>Наименование</th>\n",
       "    </tr>\n",
       "  </thead>\n",
       "  <tbody>\n",
       "    <tr>\n",
       "      <th>count</th>\n",
       "      <td>644</td>\n",
       "      <td>644</td>\n",
       "      <td>644</td>\n",
       "      <td>644</td>\n",
       "      <td>644</td>\n",
       "    </tr>\n",
       "    <tr>\n",
       "      <th>unique</th>\n",
       "      <td>148</td>\n",
       "      <td>3</td>\n",
       "      <td>622</td>\n",
       "      <td>2</td>\n",
       "      <td>14</td>\n",
       "    </tr>\n",
       "    <tr>\n",
       "      <th>top</th>\n",
       "      <td>Покупатель Wildberries</td>\n",
       "      <td>Выкупили</td>\n",
       "      <td>Достоинства:Хороший ополаскиватель</td>\n",
       "      <td>Асепта</td>\n",
       "      <td>Ополаскиватель для рта ASEPTA от кровоточивост...</td>\n",
       "    </tr>\n",
       "    <tr>\n",
       "      <th>freq</th>\n",
       "      <td>85</td>\n",
       "      <td>533</td>\n",
       "      <td>6</td>\n",
       "      <td>529</td>\n",
       "      <td>330</td>\n",
       "    </tr>\n",
       "  </tbody>\n",
       "</table>\n",
       "</div>"
      ],
      "text/plain": [
       "                         Автор Статус заказа  \\\n",
       "count                      644           644   \n",
       "unique                     148             3   \n",
       "top     Покупатель Wildberries      Выкупили   \n",
       "freq                        85           533   \n",
       "\n",
       "                              Текст отзыва   Бренд  \\\n",
       "count                                  644     644   \n",
       "unique                                 622       2   \n",
       "top     Достоинства:Хороший ополаскиватель  Асепта   \n",
       "freq                                     6     529   \n",
       "\n",
       "                                             Наименование  \n",
       "count                                                 644  \n",
       "unique                                                 14  \n",
       "top     Ополаскиватель для рта ASEPTA от кровоточивост...  \n",
       "freq                                                  330  "
      ]
     },
     "execution_count": 177,
     "metadata": {},
     "output_type": "execute_result"
    }
   ],
   "source": [
    "df_review.describe(include=[\"object\", \"bool\"])"
   ]
  },
  {
   "cell_type": "markdown",
   "id": "e810b83c",
   "metadata": {},
   "source": [
    "# EDA"
   ]
  },
  {
   "cell_type": "markdown",
   "id": "568acb2a",
   "metadata": {},
   "source": [
    "Гипотезы:\n",
    "1. Чем выше оценка, тем чаще в отзыве чаще встречаются слова \"хорошо\" \"отлично\"\n",
    "2. Чем ниже оценка, тем чаще в отзыве чаще встречаются слова \"плохо\" \"ужасно\"\n"
   ]
  },
  {
   "cell_type": "markdown",
   "id": "aef6af09",
   "metadata": {},
   "source": [
    "Гипотеза 1. Чем выше оценка, тем чаще в отзыве чаще встречаются слова \"хорошо\" \"отлично\""
   ]
  },
  {
   "cell_type": "code",
   "execution_count": 178,
   "id": "b52403eb",
   "metadata": {},
   "outputs": [],
   "source": [
    "df_review['Текст отзыва']=df_review['Текст отзыва'].str.lower()\n",
    "df_review['Have_positive_words'] = df_review['Текст отзыва'].str.contains(\"хорош|отличн\", regex=True)"
   ]
  },
  {
   "cell_type": "code",
   "execution_count": 179,
   "id": "5ce08551",
   "metadata": {},
   "outputs": [
    {
     "data": {
      "image/png": "[encoded data removed]",
      "text/plain": [
       "<Figure size 700x500 with 1 Axes>"
      ]
     },
     "metadata": {},
     "output_type": "display_data"
    }
   ],
   "source": [
    "plt.figure(figsize=(7,5))\n",
    "sns.countplot(data=df_review, x='Кол-во звезд', hue='Have_positive_words')\n",
    "plt.ylabel('Кол-во отзывов')\n",
    "plt.title('Отзывы с позитвными словами по оценкам')\n",
    "plt.show()"
   ]
  },
  {
   "cell_type": "code",
   "execution_count": 180,
   "id": "c9c657f6",
   "metadata": {},
   "outputs": [
    {
     "data": {
      "image/png": "[encoded data removed]",
      "text/plain": [
       "<Figure size 700x500 with 1 Axes>"
      ]
     },
     "metadata": {},
     "output_type": "display_data"
    }
   ],
   "source": [
    "plt.figure(figsize=(7,5))\n",
    "sns.barplot(data=df_review, x='Кол-во звезд', y='Have_positive_words', estimator='mean', errorbar=None\n",
    ")\n",
    "plt.ylabel('Доля отзывов с позитивными словами')\n",
    "plt.title('Частота отзывов с позитивными словами по оценкам')\n",
    "plt.show()"
   ]
  },
  {
   "cell_type": "markdown",
   "id": "587fafde",
   "metadata": {},
   "source": [
    "- по графикам видно, что отзывы со словами \"хорошо\" или \"отлично\" встречаются чаще всего у отзывов с высокой оценкой"
   ]
  },
  {
   "cell_type": "markdown",
   "id": "d4a467e4",
   "metadata": {},
   "source": [
    "Гипотеза 2. Чем ниже оценка, тем чаще в отзыве чаще встречаются слова \"плохо\" \"ужасно\""
   ]
  },
  {
   "cell_type": "code",
   "execution_count": 181,
   "id": "cf875e50",
   "metadata": {},
   "outputs": [],
   "source": [
    "df_review['Have_negative_words'] = df_review['Текст отзыва'].str.contains(\"плох|ужасн\", regex=True)"
   ]
  },
  {
   "cell_type": "code",
   "execution_count": 182,
   "id": "4d3b8d3e",
   "metadata": {},
   "outputs": [
    {
     "data": {
      "image/png": "[encoded data removed]",
      "text/plain": [
       "<Figure size 700x500 with 1 Axes>"
      ]
     },
     "metadata": {},
     "output_type": "display_data"
    }
   ],
   "source": [
    "plt.figure(figsize=(7,5))\n",
    "sns.countplot(data=df_review, x='Кол-во звезд', hue='Have_negative_words')\n",
    "plt.ylabel('Количество отзывов')\n",
    "plt.title('Отзывы с негативными словами по оценкам')\n",
    "plt.show()"
   ]
  },
  {
   "cell_type": "code",
   "execution_count": 183,
   "id": "7f07f4a1",
   "metadata": {},
   "outputs": [
    {
     "data": {
      "image/png": "[encoded data removed]",
      "text/plain": [
       "<Figure size 700x500 with 1 Axes>"
      ]
     },
     "metadata": {},
     "output_type": "display_data"
    }
   ],
   "source": [
    "plt.figure(figsize=(7,5))\n",
    "sns.barplot(data=df_review, x='Кол-во звезд', y='Have_negative_words', estimator='mean', errorbar=None\n",
    ")\n",
    "plt.ylabel('Доля отзывов с негативными словами')\n",
    "plt.title('Частота отзывов с негативными словами по оценкам')\n",
    "plt.show()"
   ]
  },
  {
   "cell_type": "markdown",
   "id": "eeef3773",
   "metadata": {},
   "source": [
    "- Гипотеза о том, что в отзывах с низкой оценкой чаще встречаются негативные слова - не подтвердилась"
   ]
  }
 ],
 "metadata": {
  "kernelspec": {
   "display_name": "Python 3",
   "language": "python",
   "name": "python3"
  },
  "language_info": {
   "codemirror_mode": {
    "name": "ipython",
    "version": 3
   },
   "file_extension": ".py",
   "mimetype": "text/x-python",
   "name": "python",
   "nbconvert_exporter": "python",
   "pygments_lexer": "ipython3",
   "version": "3.10.11"
  }
 },
 "nbformat": 4,
 "nbformat_minor": 5
}
