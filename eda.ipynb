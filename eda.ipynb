{
 "cells": [
  {
   "cell_type": "code",
   "execution_count": 125,
   "id": "b01fde19",
   "metadata": {},
   "outputs": [],
   "source": [
    "import pandas as pd"
   ]
  },
  {
   "cell_type": "code",
   "execution_count": 126,
   "id": "30bc669f",
   "metadata": {},
   "outputs": [],
   "source": [
    "df_items = pd.read_csv('C:/Users/Oktyabrina/Desktop/webscraper/product.csv')\n",
    "df_review = pd.read_csv('C:/Users/Oktyabrina/Desktop/webscraper/review.csv')"
   ]
  },
  {
   "cell_type": "code",
   "execution_count": 127,
   "id": "4eba0600",
   "metadata": {},
   "outputs": [],
   "source": [
    "data_dict = {\n",
    "    'Сегодня': '09 июля',\n",
    "    'Вчера': '08 июля'\n",
    "}"
   ]
  },
  {
   "cell_type": "code",
   "execution_count": 128,
   "id": "214c21cc",
   "metadata": {},
   "outputs": [],
   "source": [
    "for old_value,new_value in data_dict.items():\n",
    "    df_review['Дата отзыва']=df_review['Дата отзыва'].str.replace(old_value,new_value, regex=True)"
   ]
  },
  {
   "cell_type": "code",
   "execution_count": 129,
   "id": "f964cf81",
   "metadata": {},
   "outputs": [],
   "source": [
    "df_review[['дата','время']] = df_review['Дата отзыва'].str.replace(' • Дополнен','').str.split(',', expand=True)\n",
    "df_review[['day','month','year']]=df_review['дата'].str.split(expand=True)\n",
    "df_review['year']=df_review['year'].fillna(2025)"
   ]
  },
  {
   "cell_type": "code",
   "execution_count": 130,
   "id": "18cb5c85",
   "metadata": {},
   "outputs": [],
   "source": [
    "df_review['Кол-во звезд']=df_review['Кол-во звезд'].str.replace('star','')"
   ]
  },
  {
   "cell_type": "code",
   "execution_count": 131,
   "id": "5d6d7f3f",
   "metadata": {},
   "outputs": [],
   "source": [
    "df_review = df_review.iloc[1:]"
   ]
  },
  {
   "cell_type": "code",
   "execution_count": 132,
   "id": "a8787711",
   "metadata": {},
   "outputs": [],
   "source": [
    "df_review['Статус заказа']=df_review['Статус заказа'].fillna('Неизвестно')"
   ]
  },
  {
   "cell_type": "code",
   "execution_count": 133,
   "id": "82131a05",
   "metadata": {},
   "outputs": [],
   "source": [
    "df_review.to_excel('review.xlsx',\n",
    "                  sheet_name='Sheet1')\n"
   ]
  },
  {
   "cell_type": "code",
   "execution_count": 134,
   "id": "adbd8b05",
   "metadata": {},
   "outputs": [
    {
     "data": {
      "text/html": [
       "<div>\n",
       "<style scoped>\n",
       "    .dataframe tbody tr th:only-of-type {\n",
       "        vertical-align: middle;\n",
       "    }\n",
       "\n",
       "    .dataframe tbody tr th {\n",
       "        vertical-align: top;\n",
       "    }\n",
       "\n",
       "    .dataframe thead th {\n",
       "        text-align: right;\n",
       "    }\n",
       "</style>\n",
       "<table border=\"1\" class=\"dataframe\">\n",
       "  <thead>\n",
       "    <tr style=\"text-align: right;\">\n",
       "      <th></th>\n",
       "      <th>Автор</th>\n",
       "      <th>Статус заказа</th>\n",
       "      <th>Дата отзыва</th>\n",
       "      <th>Кол-во звезд</th>\n",
       "      <th>Текст отзыва</th>\n",
       "      <th>Артикул</th>\n",
       "      <th>дата</th>\n",
       "      <th>время</th>\n",
       "      <th>day</th>\n",
       "      <th>month</th>\n",
       "      <th>year</th>\n",
       "    </tr>\n",
       "  </thead>\n",
       "  <tbody>\n",
       "    <tr>\n",
       "      <th>1</th>\n",
       "      <td>Покупатель Wildberries</td>\n",
       "      <td>Выкупили</td>\n",
       "      <td>09 июля, 15:26</td>\n",
       "      <td>5</td>\n",
       "      <td>Достоинства:Просто понравилась.</td>\n",
       "      <td>24716555.0</td>\n",
       "      <td>09 июля</td>\n",
       "      <td>15:26</td>\n",
       "      <td>09</td>\n",
       "      <td>июля</td>\n",
       "      <td>2025</td>\n",
       "    </tr>\n",
       "    <tr>\n",
       "      <th>2</th>\n",
       "      <td>Ольга</td>\n",
       "      <td>Выкупили</td>\n",
       "      <td>09 июля, 15:16</td>\n",
       "      <td>5</td>\n",
       "      <td>Хорошая</td>\n",
       "      <td>24716555.0</td>\n",
       "      <td>09 июля</td>\n",
       "      <td>15:16</td>\n",
       "      <td>09</td>\n",
       "      <td>июля</td>\n",
       "      <td>2025</td>\n",
       "    </tr>\n",
       "    <tr>\n",
       "      <th>3</th>\n",
       "      <td>Светлана</td>\n",
       "      <td>Выкупили</td>\n",
       "      <td>07 июля, 20:44</td>\n",
       "      <td>5</td>\n",
       "      <td>Достоинства:Давно пользуемся этой пастой, очен...</td>\n",
       "      <td>24716555.0</td>\n",
       "      <td>07 июля</td>\n",
       "      <td>20:44</td>\n",
       "      <td>07</td>\n",
       "      <td>июля</td>\n",
       "      <td>2025</td>\n",
       "    </tr>\n",
       "    <tr>\n",
       "      <th>4</th>\n",
       "      <td>Татьяна</td>\n",
       "      <td>Выкупили</td>\n",
       "      <td>07 июля, 13:07</td>\n",
       "      <td>5</td>\n",
       "      <td>Достоинства:Хорошая паста</td>\n",
       "      <td>24716555.0</td>\n",
       "      <td>07 июля</td>\n",
       "      <td>13:07</td>\n",
       "      <td>07</td>\n",
       "      <td>июля</td>\n",
       "      <td>2025</td>\n",
       "    </tr>\n",
       "    <tr>\n",
       "      <th>5</th>\n",
       "      <td>Марина</td>\n",
       "      <td>Выкупили</td>\n",
       "      <td>07 июля, 06:34</td>\n",
       "      <td>5</td>\n",
       "      <td>Достоинства:Хорошая зубная паста.. Посоветовал...</td>\n",
       "      <td>24716555.0</td>\n",
       "      <td>07 июля</td>\n",
       "      <td>06:34</td>\n",
       "      <td>07</td>\n",
       "      <td>июля</td>\n",
       "      <td>2025</td>\n",
       "    </tr>\n",
       "  </tbody>\n",
       "</table>\n",
       "</div>"
      ],
      "text/plain": [
       "                    Автор Статус заказа     Дата отзыва Кол-во звезд  \\\n",
       "1  Покупатель Wildberries      Выкупили  09 июля, 15:26            5   \n",
       "2                   Ольга      Выкупили  09 июля, 15:16            5   \n",
       "3                Светлана      Выкупили  07 июля, 20:44            5   \n",
       "4                 Татьяна      Выкупили  07 июля, 13:07            5   \n",
       "5                  Марина      Выкупили  07 июля, 06:34            5   \n",
       "\n",
       "                                        Текст отзыва     Артикул     дата  \\\n",
       "1                    Достоинства:Просто понравилась.  24716555.0  09 июля   \n",
       "2                                            Хорошая  24716555.0  09 июля   \n",
       "3  Достоинства:Давно пользуемся этой пастой, очен...  24716555.0  07 июля   \n",
       "4                          Достоинства:Хорошая паста  24716555.0  07 июля   \n",
       "5  Достоинства:Хорошая зубная паста.. Посоветовал...  24716555.0  07 июля   \n",
       "\n",
       "    время day month  year  \n",
       "1   15:26  09  июля  2025  \n",
       "2   15:16  09  июля  2025  \n",
       "3   20:44  07  июля  2025  \n",
       "4   13:07  07  июля  2025  \n",
       "5   06:34  07  июля  2025  "
      ]
     },
     "execution_count": 134,
     "metadata": {},
     "output_type": "execute_result"
    }
   ],
   "source": [
    "df_review.head(5)"
   ]
  },
  {
   "cell_type": "markdown",
   "id": "11c05cbd",
   "metadata": {},
   "source": [
    "Необходимо удалить столбцы Дата отзыва и дата, так как эти данные есть в других столбцах"
   ]
  },
  {
   "cell_type": "code",
   "execution_count": 135,
   "id": "c0163115",
   "metadata": {},
   "outputs": [],
   "source": [
    "df_review = df_review.drop(['Дата отзыва','дата'], axis=1)"
   ]
  },
  {
   "cell_type": "code",
   "execution_count": 137,
   "id": "57dc5940",
   "metadata": {},
   "outputs": [
    {
     "data": {
      "text/plain": [
       "(645, 9)"
      ]
     },
     "execution_count": 137,
     "metadata": {},
     "output_type": "execute_result"
    }
   ],
   "source": [
    "df_review.shape"
   ]
  },
  {
   "cell_type": "code",
   "execution_count": 142,
   "id": "d7a94869",
   "metadata": {},
   "outputs": [
    {
     "name": "stdout",
     "output_type": "stream",
     "text": [
      "<class 'pandas.core.frame.DataFrame'>\n",
      "RangeIndex: 645 entries, 1 to 645\n",
      "Data columns (total 9 columns):\n",
      " #   Column         Non-Null Count  Dtype  \n",
      "---  ------         --------------  -----  \n",
      " 0   Автор          645 non-null    object \n",
      " 1   Статус заказа  645 non-null    object \n",
      " 2   Кол-во звезд   645 non-null    int32  \n",
      " 3   Текст отзыва   641 non-null    object \n",
      " 4   Артикул        645 non-null    float64\n",
      " 5   время          645 non-null    object \n",
      " 6   day            645 non-null    object \n",
      " 7   month          645 non-null    object \n",
      " 8   year           645 non-null    object \n",
      "dtypes: float64(1), int32(1), object(7)\n",
      "memory usage: 43.0+ KB\n"
     ]
    }
   ],
   "source": [
    "df_review.info()"
   ]
  },
  {
   "cell_type": "markdown",
   "id": "4d8f7a33",
   "metadata": {},
   "source": [
    "Типы данных многих полей object, необходимо задать числовые типы"
   ]
  },
  {
   "cell_type": "code",
   "execution_count": 146,
   "id": "46852391",
   "metadata": {},
   "outputs": [
    {
     "name": "stdout",
     "output_type": "stream",
     "text": [
      "Уникальные значения столбца Кол-во звезд: [5 4 3 1 2]\n",
      "Уникальные значения столбца day: ['09' '07' '06' '05' '04' '03' '02' '01' '30' '28' '27' '26' '24' '19'\n",
      " '16' '25' '23' '22' '21' '20' '18' '17' '14' '13' '12' '10' '08' '29'\n",
      " '11' '31' '15']\n",
      "Уникальные значения столбца year: [2025 '2024' '2023' '2022']\n"
     ]
    }
   ],
   "source": [
    "print(f\"Уникальные значения столбца Кол-во звезд: {df_review['Кол-во звезд'].unique()}\")\n",
    "print(f\"Уникальные значения столбца day: {df_review['day'].unique()}\")\n",
    "print(f\"Уникальные значения столбца year: {df_review['year'].unique()}\")\n"
   ]
  },
  {
   "cell_type": "code",
   "execution_count": null,
   "id": "bed6acee",
   "metadata": {},
   "outputs": [],
   "source": [
    "df_review=df_review.astype({'Кол-во звезд': int,\n",
    "                            'day': int,\n",
    "                            'year': int,\n",
    "                            'Артикул': int\n",
    "                            })"
   ]
  },
  {
   "cell_type": "code",
   "execution_count": 148,
   "id": "e98f0d66",
   "metadata": {},
   "outputs": [
    {
     "name": "stdout",
     "output_type": "stream",
     "text": [
      "<class 'pandas.core.frame.DataFrame'>\n",
      "RangeIndex: 645 entries, 1 to 645\n",
      "Data columns (total 9 columns):\n",
      " #   Column         Non-Null Count  Dtype \n",
      "---  ------         --------------  ----- \n",
      " 0   Автор          645 non-null    object\n",
      " 1   Статус заказа  645 non-null    object\n",
      " 2   Кол-во звезд   645 non-null    int32 \n",
      " 3   Текст отзыва   641 non-null    object\n",
      " 4   Артикул        645 non-null    int32 \n",
      " 5   время          645 non-null    object\n",
      " 6   day            645 non-null    int32 \n",
      " 7   month          645 non-null    object\n",
      " 8   year           645 non-null    int32 \n",
      "dtypes: int32(4), object(5)\n",
      "memory usage: 35.4+ KB\n"
     ]
    }
   ],
   "source": [
    "df_review.info()"
   ]
  },
  {
   "cell_type": "code",
   "execution_count": 149,
   "id": "676cdbfe",
   "metadata": {},
   "outputs": [
    {
     "data": {
      "text/plain": [
       "Автор            0\n",
       "Статус заказа    0\n",
       "Кол-во звезд     0\n",
       "Текст отзыва     4\n",
       "Артикул          0\n",
       "время            0\n",
       "day              0\n",
       "month            0\n",
       "year             0\n",
       "dtype: int64"
      ]
     },
     "execution_count": 149,
     "metadata": {},
     "output_type": "execute_result"
    }
   ],
   "source": [
    "df_review.isna().sum()\n"
   ]
  },
  {
   "cell_type": "code",
   "execution_count": 150,
   "id": "9241e0e9",
   "metadata": {},
   "outputs": [
    {
     "data": {
      "text/plain": [
       "Автор            148\n",
       "Статус заказа      3\n",
       "Кол-во звезд       5\n",
       "Текст отзыва     622\n",
       "Артикул           15\n",
       "время            500\n",
       "day               31\n",
       "month             12\n",
       "year               4\n",
       "dtype: int64"
      ]
     },
     "execution_count": 150,
     "metadata": {},
     "output_type": "execute_result"
    }
   ],
   "source": [
    "df_review.nunique()"
   ]
  },
  {
   "cell_type": "code",
   "execution_count": 152,
   "id": "4fc18df4",
   "metadata": {},
   "outputs": [
    {
     "data": {
      "text/plain": [
       "Статус заказа\n",
       "Отказались     20\n",
       "Неизвестно     91\n",
       "Выкупили      534\n",
       "Name: count, dtype: int64"
      ]
     },
     "execution_count": 152,
     "metadata": {},
     "output_type": "execute_result"
    }
   ],
   "source": [
    "df_review['Статус заказа'].value_counts(ascending=True)"
   ]
  },
  {
   "cell_type": "code",
   "execution_count": 151,
   "id": "f4e6dc5f",
   "metadata": {},
   "outputs": [
    {
     "data": {
      "text/html": [
       "<div>\n",
       "<style scoped>\n",
       "    .dataframe tbody tr th:only-of-type {\n",
       "        vertical-align: middle;\n",
       "    }\n",
       "\n",
       "    .dataframe tbody tr th {\n",
       "        vertical-align: top;\n",
       "    }\n",
       "\n",
       "    .dataframe thead th {\n",
       "        text-align: right;\n",
       "    }\n",
       "</style>\n",
       "<table border=\"1\" class=\"dataframe\">\n",
       "  <thead>\n",
       "    <tr style=\"text-align: right;\">\n",
       "      <th></th>\n",
       "      <th>Кол-во звезд</th>\n",
       "      <th>day</th>\n",
       "      <th>year</th>\n",
       "    </tr>\n",
       "  </thead>\n",
       "  <tbody>\n",
       "    <tr>\n",
       "      <th>count</th>\n",
       "      <td>645.000000</td>\n",
       "      <td>645.000000</td>\n",
       "      <td>645.000000</td>\n",
       "    </tr>\n",
       "    <tr>\n",
       "      <th>mean</th>\n",
       "      <td>4.582946</td>\n",
       "      <td>16.181395</td>\n",
       "      <td>2024.728682</td>\n",
       "    </tr>\n",
       "    <tr>\n",
       "      <th>std</th>\n",
       "      <td>1.044664</td>\n",
       "      <td>8.930353</td>\n",
       "      <td>0.481843</td>\n",
       "    </tr>\n",
       "    <tr>\n",
       "      <th>min</th>\n",
       "      <td>1.000000</td>\n",
       "      <td>1.000000</td>\n",
       "      <td>2022.000000</td>\n",
       "    </tr>\n",
       "    <tr>\n",
       "      <th>25%</th>\n",
       "      <td>5.000000</td>\n",
       "      <td>8.000000</td>\n",
       "      <td>2024.000000</td>\n",
       "    </tr>\n",
       "    <tr>\n",
       "      <th>50%</th>\n",
       "      <td>5.000000</td>\n",
       "      <td>16.000000</td>\n",
       "      <td>2025.000000</td>\n",
       "    </tr>\n",
       "    <tr>\n",
       "      <th>75%</th>\n",
       "      <td>5.000000</td>\n",
       "      <td>24.000000</td>\n",
       "      <td>2025.000000</td>\n",
       "    </tr>\n",
       "    <tr>\n",
       "      <th>max</th>\n",
       "      <td>5.000000</td>\n",
       "      <td>31.000000</td>\n",
       "      <td>2025.000000</td>\n",
       "    </tr>\n",
       "  </tbody>\n",
       "</table>\n",
       "</div>"
      ],
      "text/plain": [
       "       Кол-во звезд         day         year\n",
       "count    645.000000  645.000000   645.000000\n",
       "mean       4.582946   16.181395  2024.728682\n",
       "std        1.044664    8.930353     0.481843\n",
       "min        1.000000    1.000000  2022.000000\n",
       "25%        5.000000    8.000000  2024.000000\n",
       "50%        5.000000   16.000000  2025.000000\n",
       "75%        5.000000   24.000000  2025.000000\n",
       "max        5.000000   31.000000  2025.000000"
      ]
     },
     "execution_count": 151,
     "metadata": {},
     "output_type": "execute_result"
    }
   ],
   "source": [
    "df_review.loc[:,df_review.columns!='Артикул'].describe()"
   ]
  },
  {
   "cell_type": "code",
   "execution_count": 153,
   "id": "4798f329",
   "metadata": {},
   "outputs": [
    {
     "data": {
      "text/html": [
       "<div>\n",
       "<style scoped>\n",
       "    .dataframe tbody tr th:only-of-type {\n",
       "        vertical-align: middle;\n",
       "    }\n",
       "\n",
       "    .dataframe tbody tr th {\n",
       "        vertical-align: top;\n",
       "    }\n",
       "\n",
       "    .dataframe thead th {\n",
       "        text-align: right;\n",
       "    }\n",
       "</style>\n",
       "<table border=\"1\" class=\"dataframe\">\n",
       "  <thead>\n",
       "    <tr style=\"text-align: right;\">\n",
       "      <th></th>\n",
       "      <th>Автор</th>\n",
       "      <th>Статус заказа</th>\n",
       "      <th>Текст отзыва</th>\n",
       "      <th>время</th>\n",
       "      <th>month</th>\n",
       "    </tr>\n",
       "  </thead>\n",
       "  <tbody>\n",
       "    <tr>\n",
       "      <th>count</th>\n",
       "      <td>645</td>\n",
       "      <td>645</td>\n",
       "      <td>641</td>\n",
       "      <td>645</td>\n",
       "      <td>645</td>\n",
       "    </tr>\n",
       "    <tr>\n",
       "      <th>unique</th>\n",
       "      <td>148</td>\n",
       "      <td>3</td>\n",
       "      <td>622</td>\n",
       "      <td>500</td>\n",
       "      <td>12</td>\n",
       "    </tr>\n",
       "    <tr>\n",
       "      <th>top</th>\n",
       "      <td>Покупатель Wildberries</td>\n",
       "      <td>Выкупили</td>\n",
       "      <td>Достоинства:Хороший ополаскиватель</td>\n",
       "      <td>21:20</td>\n",
       "      <td>марта</td>\n",
       "    </tr>\n",
       "    <tr>\n",
       "      <th>freq</th>\n",
       "      <td>86</td>\n",
       "      <td>534</td>\n",
       "      <td>6</td>\n",
       "      <td>4</td>\n",
       "      <td>90</td>\n",
       "    </tr>\n",
       "  </tbody>\n",
       "</table>\n",
       "</div>"
      ],
      "text/plain": [
       "                         Автор Статус заказа  \\\n",
       "count                      645           645   \n",
       "unique                     148             3   \n",
       "top     Покупатель Wildberries      Выкупили   \n",
       "freq                        86           534   \n",
       "\n",
       "                              Текст отзыва   время  month  \n",
       "count                                  641     645    645  \n",
       "unique                                 622     500     12  \n",
       "top     Достоинства:Хороший ополаскиватель   21:20  марта  \n",
       "freq                                     6       4     90  "
      ]
     },
     "execution_count": 153,
     "metadata": {},
     "output_type": "execute_result"
    }
   ],
   "source": [
    "df_review.describe(include=[\"object\", \"bool\"])"
   ]
  },
  {
   "cell_type": "code",
   "execution_count": 16,
   "id": "92ea8f95",
   "metadata": {},
   "outputs": [
    {
     "data": {
      "text/html": [
       "<div>\n",
       "<style scoped>\n",
       "    .dataframe tbody tr th:only-of-type {\n",
       "        vertical-align: middle;\n",
       "    }\n",
       "\n",
       "    .dataframe tbody tr th {\n",
       "        vertical-align: top;\n",
       "    }\n",
       "\n",
       "    .dataframe thead th {\n",
       "        text-align: right;\n",
       "    }\n",
       "</style>\n",
       "<table border=\"1\" class=\"dataframe\">\n",
       "  <thead>\n",
       "    <tr style=\"text-align: right;\">\n",
       "      <th></th>\n",
       "      <th>Автор</th>\n",
       "      <th>Статус заказа</th>\n",
       "      <th>Дата отзыва</th>\n",
       "      <th>Кол-во звезд</th>\n",
       "      <th>Текст отзыва</th>\n",
       "      <th>Артикул</th>\n",
       "      <th>дата</th>\n",
       "      <th>время</th>\n",
       "      <th>day</th>\n",
       "      <th>month</th>\n",
       "      <th>year</th>\n",
       "    </tr>\n",
       "  </thead>\n",
       "  <tbody>\n",
       "    <tr>\n",
       "      <th>1</th>\n",
       "      <td>Покупатель Wildberries</td>\n",
       "      <td>Выкупили</td>\n",
       "      <td>09 июля, 15:26</td>\n",
       "      <td>5</td>\n",
       "      <td>Достоинства:Просто понравилась.</td>\n",
       "      <td>24716555.0</td>\n",
       "      <td>09 июля</td>\n",
       "      <td>15:26</td>\n",
       "      <td>09</td>\n",
       "      <td>июля</td>\n",
       "      <td>2025</td>\n",
       "    </tr>\n",
       "    <tr>\n",
       "      <th>2</th>\n",
       "      <td>Ольга</td>\n",
       "      <td>Выкупили</td>\n",
       "      <td>09 июля, 15:16</td>\n",
       "      <td>5</td>\n",
       "      <td>Хорошая</td>\n",
       "      <td>24716555.0</td>\n",
       "      <td>09 июля</td>\n",
       "      <td>15:16</td>\n",
       "      <td>09</td>\n",
       "      <td>июля</td>\n",
       "      <td>2025</td>\n",
       "    </tr>\n",
       "    <tr>\n",
       "      <th>3</th>\n",
       "      <td>Светлана</td>\n",
       "      <td>Выкупили</td>\n",
       "      <td>07 июля, 20:44</td>\n",
       "      <td>5</td>\n",
       "      <td>Достоинства:Давно пользуемся этой пастой, очен...</td>\n",
       "      <td>24716555.0</td>\n",
       "      <td>07 июля</td>\n",
       "      <td>20:44</td>\n",
       "      <td>07</td>\n",
       "      <td>июля</td>\n",
       "      <td>2025</td>\n",
       "    </tr>\n",
       "    <tr>\n",
       "      <th>4</th>\n",
       "      <td>Татьяна</td>\n",
       "      <td>Выкупили</td>\n",
       "      <td>07 июля, 13:07</td>\n",
       "      <td>5</td>\n",
       "      <td>Достоинства:Хорошая паста</td>\n",
       "      <td>24716555.0</td>\n",
       "      <td>07 июля</td>\n",
       "      <td>13:07</td>\n",
       "      <td>07</td>\n",
       "      <td>июля</td>\n",
       "      <td>2025</td>\n",
       "    </tr>\n",
       "    <tr>\n",
       "      <th>5</th>\n",
       "      <td>Марина</td>\n",
       "      <td>Выкупили</td>\n",
       "      <td>07 июля, 06:34</td>\n",
       "      <td>5</td>\n",
       "      <td>Достоинства:Хорошая зубная паста.. Посоветовал...</td>\n",
       "      <td>24716555.0</td>\n",
       "      <td>07 июля</td>\n",
       "      <td>06:34</td>\n",
       "      <td>07</td>\n",
       "      <td>июля</td>\n",
       "      <td>2025</td>\n",
       "    </tr>\n",
       "    <tr>\n",
       "      <th>...</th>\n",
       "      <td>...</td>\n",
       "      <td>...</td>\n",
       "      <td>...</td>\n",
       "      <td>...</td>\n",
       "      <td>...</td>\n",
       "      <td>...</td>\n",
       "      <td>...</td>\n",
       "      <td>...</td>\n",
       "      <td>...</td>\n",
       "      <td>...</td>\n",
       "      <td>...</td>\n",
       "    </tr>\n",
       "    <tr>\n",
       "      <th>641</th>\n",
       "      <td>Покупатель Wildberries</td>\n",
       "      <td>Неизвестно</td>\n",
       "      <td>12 октября 2024, 16:03 • Дополнен</td>\n",
       "      <td>5</td>\n",
       "      <td>Отправила оотзыв не на тот товар, не знаю как ...</td>\n",
       "      <td>212876972.0</td>\n",
       "      <td>12 октября 2024</td>\n",
       "      <td>16:03</td>\n",
       "      <td>12</td>\n",
       "      <td>октября</td>\n",
       "      <td>2024</td>\n",
       "    </tr>\n",
       "    <tr>\n",
       "      <th>642</th>\n",
       "      <td>Екатерина</td>\n",
       "      <td>Неизвестно</td>\n",
       "      <td>13 апреля 2024, 12:27</td>\n",
       "      <td>5</td>\n",
       "      <td>единственный ополаскиватель. после ктр не хоче...</td>\n",
       "      <td>212876972.0</td>\n",
       "      <td>13 апреля 2024</td>\n",
       "      <td>12:27</td>\n",
       "      <td>13</td>\n",
       "      <td>апреля</td>\n",
       "      <td>2024</td>\n",
       "    </tr>\n",
       "    <tr>\n",
       "      <th>643</th>\n",
       "      <td>Покупатель Wildberries</td>\n",
       "      <td>Неизвестно</td>\n",
       "      <td>08 апреля 2024, 05:14</td>\n",
       "      <td>5</td>\n",
       "      <td>Доставка долго, но все норм. Хороший товар. Пр...</td>\n",
       "      <td>212876972.0</td>\n",
       "      <td>08 апреля 2024</td>\n",
       "      <td>05:14</td>\n",
       "      <td>08</td>\n",
       "      <td>апреля</td>\n",
       "      <td>2024</td>\n",
       "    </tr>\n",
       "    <tr>\n",
       "      <th>644</th>\n",
       "      <td>Валентина</td>\n",
       "      <td>Отказались</td>\n",
       "      <td>11 января, 14:44</td>\n",
       "      <td>1</td>\n",
       "      <td>Недостатки:Разорвана не только заводская упако...</td>\n",
       "      <td>227510622.0</td>\n",
       "      <td>11 января</td>\n",
       "      <td>14:44</td>\n",
       "      <td>11</td>\n",
       "      <td>января</td>\n",
       "      <td>2025</td>\n",
       "    </tr>\n",
       "    <tr>\n",
       "      <th>645</th>\n",
       "      <td>Мадина</td>\n",
       "      <td>Выкупили</td>\n",
       "      <td>16 ноября 2024, 10:11</td>\n",
       "      <td>5</td>\n",
       "      <td>Достоинства:👍🏻 буду заказывать ещё</td>\n",
       "      <td>227510622.0</td>\n",
       "      <td>16 ноября 2024</td>\n",
       "      <td>10:11</td>\n",
       "      <td>16</td>\n",
       "      <td>ноября</td>\n",
       "      <td>2024</td>\n",
       "    </tr>\n",
       "  </tbody>\n",
       "</table>\n",
       "<p>645 rows × 11 columns</p>\n",
       "</div>"
      ],
      "text/plain": [
       "                      Автор Статус заказа                        Дата отзыва  \\\n",
       "1    Покупатель Wildberries      Выкупили                     09 июля, 15:26   \n",
       "2                     Ольга      Выкупили                     09 июля, 15:16   \n",
       "3                  Светлана      Выкупили                     07 июля, 20:44   \n",
       "4                   Татьяна      Выкупили                     07 июля, 13:07   \n",
       "5                    Марина      Выкупили                     07 июля, 06:34   \n",
       "..                      ...           ...                                ...   \n",
       "641  Покупатель Wildberries    Неизвестно  12 октября 2024, 16:03 • Дополнен   \n",
       "642               Екатерина    Неизвестно              13 апреля 2024, 12:27   \n",
       "643  Покупатель Wildberries    Неизвестно              08 апреля 2024, 05:14   \n",
       "644               Валентина    Отказались                   11 января, 14:44   \n",
       "645                  Мадина      Выкупили              16 ноября 2024, 10:11   \n",
       "\n",
       "    Кол-во звезд                                       Текст отзыва  \\\n",
       "1              5                    Достоинства:Просто понравилась.   \n",
       "2              5                                            Хорошая   \n",
       "3              5  Достоинства:Давно пользуемся этой пастой, очен...   \n",
       "4              5                          Достоинства:Хорошая паста   \n",
       "5              5  Достоинства:Хорошая зубная паста.. Посоветовал...   \n",
       "..           ...                                                ...   \n",
       "641            5  Отправила оотзыв не на тот товар, не знаю как ...   \n",
       "642            5  единственный ополаскиватель. после ктр не хоче...   \n",
       "643            5  Доставка долго, но все норм. Хороший товар. Пр...   \n",
       "644            1  Недостатки:Разорвана не только заводская упако...   \n",
       "645            5                 Достоинства:👍🏻 буду заказывать ещё   \n",
       "\n",
       "         Артикул             дата   время day    month  year  \n",
       "1     24716555.0          09 июля   15:26  09     июля  2025  \n",
       "2     24716555.0          09 июля   15:16  09     июля  2025  \n",
       "3     24716555.0          07 июля   20:44  07     июля  2025  \n",
       "4     24716555.0          07 июля   13:07  07     июля  2025  \n",
       "5     24716555.0          07 июля   06:34  07     июля  2025  \n",
       "..           ...              ...     ...  ..      ...   ...  \n",
       "641  212876972.0  12 октября 2024   16:03  12  октября  2024  \n",
       "642  212876972.0   13 апреля 2024   12:27  13   апреля  2024  \n",
       "643  212876972.0   08 апреля 2024   05:14  08   апреля  2024  \n",
       "644  227510622.0        11 января   14:44  11   января  2025  \n",
       "645  227510622.0   16 ноября 2024   10:11  16   ноября  2024  \n",
       "\n",
       "[645 rows x 11 columns]"
      ]
     },
     "execution_count": 16,
     "metadata": {},
     "output_type": "execute_result"
    }
   ],
   "source": [
    "df_review"
   ]
  },
  {
   "cell_type": "code",
   "execution_count": null,
   "id": "e810b83c",
   "metadata": {},
   "outputs": [],
   "source": []
  }
 ],
 "metadata": {
  "kernelspec": {
   "display_name": "Python 3",
   "language": "python",
   "name": "python3"
  },
  "language_info": {
   "codemirror_mode": {
    "name": "ipython",
    "version": 3
   },
   "file_extension": ".py",
   "mimetype": "text/x-python",
   "name": "python",
   "nbconvert_exporter": "python",
   "pygments_lexer": "ipython3",
   "version": "3.10.11"
  }
 },
 "nbformat": 4,
 "nbformat_minor": 5
}
