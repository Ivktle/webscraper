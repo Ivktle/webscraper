{
 "cells": [
  {
   "cell_type": "code",
   "execution_count": 20,
   "id": "b01fde19",
   "metadata": {},
   "outputs": [],
   "source": [
    "import pandas as pd\n",
    "import matplotlib.pyplot as plt\n",
    "import seaborn as sns\n",
    "\n",
    "RAND = 10"
   ]
  },
  {
   "cell_type": "markdown",
   "id": "f15c060c",
   "metadata": {},
   "source": [
    "# Импорт данных"
   ]
  },
  {
   "cell_type": "code",
   "execution_count": null,
   "id": "30bc669f",
   "metadata": {},
   "outputs": [],
   "source": [
    "df_items = pd.read_csv('C:/Users/Oktyabrina/Desktop/webscraper/data/product.csv')\n",
    "df_items = df_items.drop(['nmFeedbacks','rating','root','optionId'], axis=1)\n",
    "df_review = pd.read_csv('C:/Users/Oktyabrina/Desktop/webscraper/data/review.csv')\n",
    "df_review = df_review.merge(df_items, left_on='Артикул', right_on='id')\n",
    "df_review = df_review.drop(['id'], axis=1)"
   ]
  },
  {
   "cell_type": "code",
   "execution_count": 22,
   "id": "6f2b741c",
   "metadata": {},
   "outputs": [
    {
     "data": {
      "text/html": [
       "<div>\n",
       "<style scoped>\n",
       "    .dataframe tbody tr th:only-of-type {\n",
       "        vertical-align: middle;\n",
       "    }\n",
       "\n",
       "    .dataframe tbody tr th {\n",
       "        vertical-align: top;\n",
       "    }\n",
       "\n",
       "    .dataframe thead th {\n",
       "        text-align: right;\n",
       "    }\n",
       "</style>\n",
       "<table border=\"1\" class=\"dataframe\">\n",
       "  <thead>\n",
       "    <tr style=\"text-align: right;\">\n",
       "      <th></th>\n",
       "      <th>Автор</th>\n",
       "      <th>Статус заказа</th>\n",
       "      <th>Дата отзыва</th>\n",
       "      <th>Кол-во звезд</th>\n",
       "      <th>Текст отзыва</th>\n",
       "      <th>Артикул</th>\n",
       "      <th>Бренд</th>\n",
       "      <th>Наименование</th>\n",
       "      <th>Кол-во оценок</th>\n",
       "      <th>Общая оценка товара</th>\n",
       "      <th>Текущая цена до скидки</th>\n",
       "      <th>Текущая цена после скидки</th>\n",
       "    </tr>\n",
       "  </thead>\n",
       "  <tbody>\n",
       "    <tr>\n",
       "      <th>0</th>\n",
       "      <td>Ирина Шехонина</td>\n",
       "      <td>NaN</td>\n",
       "      <td>NaN</td>\n",
       "      <td>star5</td>\n",
       "      <td>У свечи невероятный аромат. Очень приятное пот...</td>\n",
       "      <td>173669381.0</td>\n",
       "      <td>Lumiere</td>\n",
       "      <td>Свеча ароматическая для декора pinterest</td>\n",
       "      <td>2640</td>\n",
       "      <td>4.7</td>\n",
       "      <td>2625.0</td>\n",
       "      <td>449.0</td>\n",
       "    </tr>\n",
       "    <tr>\n",
       "      <th>1</th>\n",
       "      <td>Ирина Шехонина</td>\n",
       "      <td>NaN</td>\n",
       "      <td>NaN</td>\n",
       "      <td>star5</td>\n",
       "      <td>У свечи невероятный аромат. Очень приятное пот...</td>\n",
       "      <td>173669381.0</td>\n",
       "      <td>Lumiere</td>\n",
       "      <td>Свеча ароматическая для декора pinterest</td>\n",
       "      <td>2640</td>\n",
       "      <td>4.7</td>\n",
       "      <td>2625.0</td>\n",
       "      <td>449.0</td>\n",
       "    </tr>\n",
       "    <tr>\n",
       "      <th>2</th>\n",
       "      <td>Алинка</td>\n",
       "      <td>NaN</td>\n",
       "      <td>NaN</td>\n",
       "      <td>star5</td>\n",
       "      <td>Достоинства:ВСЕ НРАВИТСЯ!!! ЗАПАХ ПРОСТО ОБАЛД...</td>\n",
       "      <td>173669381.0</td>\n",
       "      <td>Lumiere</td>\n",
       "      <td>Свеча ароматическая для декора pinterest</td>\n",
       "      <td>2640</td>\n",
       "      <td>4.7</td>\n",
       "      <td>2625.0</td>\n",
       "      <td>449.0</td>\n",
       "    </tr>\n",
       "    <tr>\n",
       "      <th>3</th>\n",
       "      <td>Алинка</td>\n",
       "      <td>NaN</td>\n",
       "      <td>NaN</td>\n",
       "      <td>star5</td>\n",
       "      <td>Достоинства:ВСЕ НРАВИТСЯ!!! ЗАПАХ ПРОСТО ОБАЛД...</td>\n",
       "      <td>173669381.0</td>\n",
       "      <td>Lumiere</td>\n",
       "      <td>Свеча ароматическая для декора pinterest</td>\n",
       "      <td>2640</td>\n",
       "      <td>4.7</td>\n",
       "      <td>2625.0</td>\n",
       "      <td>449.0</td>\n",
       "    </tr>\n",
       "    <tr>\n",
       "      <th>4</th>\n",
       "      <td>Покупатель Wildberries</td>\n",
       "      <td>Выкупили</td>\n",
       "      <td>Сегодня, 16:56</td>\n",
       "      <td>star5</td>\n",
       "      <td>Плюсы товаравнешний видкачествохороший эффекту...</td>\n",
       "      <td>173669381.0</td>\n",
       "      <td>Lumiere</td>\n",
       "      <td>Свеча ароматическая для декора pinterest</td>\n",
       "      <td>2640</td>\n",
       "      <td>4.7</td>\n",
       "      <td>2625.0</td>\n",
       "      <td>449.0</td>\n",
       "    </tr>\n",
       "  </tbody>\n",
       "</table>\n",
       "</div>"
      ],
      "text/plain": [
       "                    Автор Статус заказа     Дата отзыва Кол-во звезд  \\\n",
       "0          Ирина Шехонина           NaN             NaN        star5   \n",
       "1          Ирина Шехонина           NaN             NaN        star5   \n",
       "2                  Алинка           NaN             NaN        star5   \n",
       "3                  Алинка           NaN             NaN        star5   \n",
       "4  Покупатель Wildberries      Выкупили  Сегодня, 16:56        star5   \n",
       "\n",
       "                                        Текст отзыва      Артикул    Бренд  \\\n",
       "0  У свечи невероятный аромат. Очень приятное пот...  173669381.0  Lumiere   \n",
       "1  У свечи невероятный аромат. Очень приятное пот...  173669381.0  Lumiere   \n",
       "2  Достоинства:ВСЕ НРАВИТСЯ!!! ЗАПАХ ПРОСТО ОБАЛД...  173669381.0  Lumiere   \n",
       "3  Достоинства:ВСЕ НРАВИТСЯ!!! ЗАПАХ ПРОСТО ОБАЛД...  173669381.0  Lumiere   \n",
       "4  Плюсы товаравнешний видкачествохороший эффекту...  173669381.0  Lumiere   \n",
       "\n",
       "                               Наименование  Кол-во оценок  \\\n",
       "0  Свеча ароматическая для декора pinterest           2640   \n",
       "1  Свеча ароматическая для декора pinterest           2640   \n",
       "2  Свеча ароматическая для декора pinterest           2640   \n",
       "3  Свеча ароматическая для декора pinterest           2640   \n",
       "4  Свеча ароматическая для декора pinterest           2640   \n",
       "\n",
       "   Общая оценка товара  Текущая цена до скидки  Текущая цена после скидки  \n",
       "0                  4.7                  2625.0                      449.0  \n",
       "1                  4.7                  2625.0                      449.0  \n",
       "2                  4.7                  2625.0                      449.0  \n",
       "3                  4.7                  2625.0                      449.0  \n",
       "4                  4.7                  2625.0                      449.0  "
      ]
     },
     "execution_count": 22,
     "metadata": {},
     "output_type": "execute_result"
    }
   ],
   "source": [
    "df_review = df_review.rename(columns={'brand':'Бренд','name':'Наименование','feedbacks':'Кол-во оценок',\n",
    "                                      'reviewRating':'Общая оценка товара','basic':'Текущая цена до скидки','product':'Текущая цена после скидки',})\n",
    "df_review.head(5)"
   ]
  },
  {
   "cell_type": "code",
   "execution_count": 23,
   "id": "300bdf37",
   "metadata": {},
   "outputs": [],
   "source": [
    "df_review = df_review.iloc[1:]"
   ]
  },
  {
   "cell_type": "markdown",
   "id": "1dce7fc1",
   "metadata": {},
   "source": [
    "**Дату отзывов необходимо преобразовать в нормальную дату**"
   ]
  },
  {
   "cell_type": "markdown",
   "id": "703f6e1a",
   "metadata": {},
   "source": [
    "На сайте Вайлдбериз у отзывов, которые были оставлены вчера-сегодня, вместо даты пишут \"Вчера\" или \"Сегодня\""
   ]
  },
  {
   "cell_type": "code",
   "execution_count": 24,
   "id": "4eba0600",
   "metadata": {},
   "outputs": [],
   "source": [
    "date_dict = {\n",
    "    'Сегодня': '09 июля',\n",
    "    'Вчера': '08 июля'\n",
    "}\n",
    "\n",
    "for old_value,new_value in date_dict.items():\n",
    "    df_review['Дата отзыва']=df_review['Дата отзыва'].str.replace(old_value,new_value, regex=True)\n"
   ]
  },
  {
   "cell_type": "code",
   "execution_count": 25,
   "id": "ebfe1713",
   "metadata": {},
   "outputs": [],
   "source": [
    "df_review[['date_temp','time']] = df_review['Дата отзыва'].str.replace(' · Дополнен','').str.split(',', expand=True)\n",
    "df_review[['day','month','year']]=df_review['date_temp'].str.split(expand=True)\n",
    "df_review['year']=df_review['year'].fillna('2025')"
   ]
  },
  {
   "cell_type": "markdown",
   "id": "8021eb12",
   "metadata": {},
   "source": [
    "Названия месяцев написаны на русском со склонением. Необходимо вместо них подставить номер месяца"
   ]
  },
  {
   "cell_type": "code",
   "execution_count": 26,
   "id": "17b90c90",
   "metadata": {},
   "outputs": [],
   "source": [
    "month_dict = {'января':'01',\n",
    "              'февраля':'02',\n",
    "              'марта':'03',\n",
    "              'апреля':'04',\n",
    "              'мая':'05',\n",
    "              'июня':'06',\n",
    "              'июля':'07',\n",
    "              'августа':'08',\n",
    "              'сентября':'09',\n",
    "              'октября':'10',\n",
    "              'ноября':'11',\n",
    "              'декабря':'12'}\n",
    "for old_value,new_value in month_dict.items():\n",
    "    df_review['month']=df_review['month'].str.replace(old_value,new_value, regex=False)\n",
    "\n",
    "df_review['Дата'] = pd.to_datetime(\n",
    "    df_review['day']+'.'+df_review['month']+'.'+df_review['year']+df_review['time'],\n",
    "    format=\"%d.%m.%Y %H:%M\"\n",
    ")"
   ]
  },
  {
   "cell_type": "code",
   "execution_count": 27,
   "id": "097d723f",
   "metadata": {},
   "outputs": [
    {
     "data": {
      "text/html": [
       "<div>\n",
       "<style scoped>\n",
       "    .dataframe tbody tr th:only-of-type {\n",
       "        vertical-align: middle;\n",
       "    }\n",
       "\n",
       "    .dataframe tbody tr th {\n",
       "        vertical-align: top;\n",
       "    }\n",
       "\n",
       "    .dataframe thead th {\n",
       "        text-align: right;\n",
       "    }\n",
       "</style>\n",
       "<table border=\"1\" class=\"dataframe\">\n",
       "  <thead>\n",
       "    <tr style=\"text-align: right;\">\n",
       "      <th></th>\n",
       "      <th>Автор</th>\n",
       "      <th>Статус заказа</th>\n",
       "      <th>Дата отзыва</th>\n",
       "      <th>Кол-во звезд</th>\n",
       "      <th>Текст отзыва</th>\n",
       "      <th>Артикул</th>\n",
       "      <th>Бренд</th>\n",
       "      <th>Наименование</th>\n",
       "      <th>Кол-во оценок</th>\n",
       "      <th>Общая оценка товара</th>\n",
       "      <th>Текущая цена до скидки</th>\n",
       "      <th>Текущая цена после скидки</th>\n",
       "      <th>date_temp</th>\n",
       "      <th>time</th>\n",
       "      <th>day</th>\n",
       "      <th>month</th>\n",
       "      <th>year</th>\n",
       "      <th>Дата</th>\n",
       "    </tr>\n",
       "  </thead>\n",
       "  <tbody>\n",
       "    <tr>\n",
       "      <th>1</th>\n",
       "      <td>Ирина Шехонина</td>\n",
       "      <td>NaN</td>\n",
       "      <td>NaN</td>\n",
       "      <td>star5</td>\n",
       "      <td>У свечи невероятный аромат. Очень приятное пот...</td>\n",
       "      <td>173669381.0</td>\n",
       "      <td>Lumiere</td>\n",
       "      <td>Свеча ароматическая для декора pinterest</td>\n",
       "      <td>2640</td>\n",
       "      <td>4.7</td>\n",
       "      <td>2625.0</td>\n",
       "      <td>449.0</td>\n",
       "      <td>NaN</td>\n",
       "      <td>NaN</td>\n",
       "      <td>NaN</td>\n",
       "      <td>NaN</td>\n",
       "      <td>2025</td>\n",
       "      <td>NaT</td>\n",
       "    </tr>\n",
       "    <tr>\n",
       "      <th>2</th>\n",
       "      <td>Алинка</td>\n",
       "      <td>NaN</td>\n",
       "      <td>NaN</td>\n",
       "      <td>star5</td>\n",
       "      <td>Достоинства:ВСЕ НРАВИТСЯ!!! ЗАПАХ ПРОСТО ОБАЛД...</td>\n",
       "      <td>173669381.0</td>\n",
       "      <td>Lumiere</td>\n",
       "      <td>Свеча ароматическая для декора pinterest</td>\n",
       "      <td>2640</td>\n",
       "      <td>4.7</td>\n",
       "      <td>2625.0</td>\n",
       "      <td>449.0</td>\n",
       "      <td>NaN</td>\n",
       "      <td>NaN</td>\n",
       "      <td>NaN</td>\n",
       "      <td>NaN</td>\n",
       "      <td>2025</td>\n",
       "      <td>NaT</td>\n",
       "    </tr>\n",
       "    <tr>\n",
       "      <th>3</th>\n",
       "      <td>Алинка</td>\n",
       "      <td>NaN</td>\n",
       "      <td>NaN</td>\n",
       "      <td>star5</td>\n",
       "      <td>Достоинства:ВСЕ НРАВИТСЯ!!! ЗАПАХ ПРОСТО ОБАЛД...</td>\n",
       "      <td>173669381.0</td>\n",
       "      <td>Lumiere</td>\n",
       "      <td>Свеча ароматическая для декора pinterest</td>\n",
       "      <td>2640</td>\n",
       "      <td>4.7</td>\n",
       "      <td>2625.0</td>\n",
       "      <td>449.0</td>\n",
       "      <td>NaN</td>\n",
       "      <td>NaN</td>\n",
       "      <td>NaN</td>\n",
       "      <td>NaN</td>\n",
       "      <td>2025</td>\n",
       "      <td>NaT</td>\n",
       "    </tr>\n",
       "    <tr>\n",
       "      <th>4</th>\n",
       "      <td>Покупатель Wildberries</td>\n",
       "      <td>Выкупили</td>\n",
       "      <td>09 июля, 16:56</td>\n",
       "      <td>star5</td>\n",
       "      <td>Плюсы товаравнешний видкачествохороший эффекту...</td>\n",
       "      <td>173669381.0</td>\n",
       "      <td>Lumiere</td>\n",
       "      <td>Свеча ароматическая для декора pinterest</td>\n",
       "      <td>2640</td>\n",
       "      <td>4.7</td>\n",
       "      <td>2625.0</td>\n",
       "      <td>449.0</td>\n",
       "      <td>09 июля</td>\n",
       "      <td>16:56</td>\n",
       "      <td>09</td>\n",
       "      <td>07</td>\n",
       "      <td>2025</td>\n",
       "      <td>2025-07-09 16:56:00</td>\n",
       "    </tr>\n",
       "    <tr>\n",
       "      <th>5</th>\n",
       "      <td>Покупатель Wildberries</td>\n",
       "      <td>Выкупили</td>\n",
       "      <td>09 июля, 16:56</td>\n",
       "      <td>star5</td>\n",
       "      <td>Плюсы товаравнешний видкачествохороший эффекту...</td>\n",
       "      <td>173669381.0</td>\n",
       "      <td>Lumiere</td>\n",
       "      <td>Свеча ароматическая для декора pinterest</td>\n",
       "      <td>2640</td>\n",
       "      <td>4.7</td>\n",
       "      <td>2625.0</td>\n",
       "      <td>449.0</td>\n",
       "      <td>09 июля</td>\n",
       "      <td>16:56</td>\n",
       "      <td>09</td>\n",
       "      <td>07</td>\n",
       "      <td>2025</td>\n",
       "      <td>2025-07-09 16:56:00</td>\n",
       "    </tr>\n",
       "  </tbody>\n",
       "</table>\n",
       "</div>"
      ],
      "text/plain": [
       "                    Автор Статус заказа     Дата отзыва Кол-во звезд  \\\n",
       "1          Ирина Шехонина           NaN             NaN        star5   \n",
       "2                  Алинка           NaN             NaN        star5   \n",
       "3                  Алинка           NaN             NaN        star5   \n",
       "4  Покупатель Wildberries      Выкупили  09 июля, 16:56        star5   \n",
       "5  Покупатель Wildberries      Выкупили  09 июля, 16:56        star5   \n",
       "\n",
       "                                        Текст отзыва      Артикул    Бренд  \\\n",
       "1  У свечи невероятный аромат. Очень приятное пот...  173669381.0  Lumiere   \n",
       "2  Достоинства:ВСЕ НРАВИТСЯ!!! ЗАПАХ ПРОСТО ОБАЛД...  173669381.0  Lumiere   \n",
       "3  Достоинства:ВСЕ НРАВИТСЯ!!! ЗАПАХ ПРОСТО ОБАЛД...  173669381.0  Lumiere   \n",
       "4  Плюсы товаравнешний видкачествохороший эффекту...  173669381.0  Lumiere   \n",
       "5  Плюсы товаравнешний видкачествохороший эффекту...  173669381.0  Lumiere   \n",
       "\n",
       "                               Наименование  Кол-во оценок  \\\n",
       "1  Свеча ароматическая для декора pinterest           2640   \n",
       "2  Свеча ароматическая для декора pinterest           2640   \n",
       "3  Свеча ароматическая для декора pinterest           2640   \n",
       "4  Свеча ароматическая для декора pinterest           2640   \n",
       "5  Свеча ароматическая для декора pinterest           2640   \n",
       "\n",
       "   Общая оценка товара  Текущая цена до скидки  Текущая цена после скидки  \\\n",
       "1                  4.7                  2625.0                      449.0   \n",
       "2                  4.7                  2625.0                      449.0   \n",
       "3                  4.7                  2625.0                      449.0   \n",
       "4                  4.7                  2625.0                      449.0   \n",
       "5                  4.7                  2625.0                      449.0   \n",
       "\n",
       "  date_temp    time  day month  year                Дата  \n",
       "1       NaN     NaN  NaN   NaN  2025                 NaT  \n",
       "2       NaN     NaN  NaN   NaN  2025                 NaT  \n",
       "3       NaN     NaN  NaN   NaN  2025                 NaT  \n",
       "4   09 июля   16:56   09    07  2025 2025-07-09 16:56:00  \n",
       "5   09 июля   16:56   09    07  2025 2025-07-09 16:56:00  "
      ]
     },
     "execution_count": 27,
     "metadata": {},
     "output_type": "execute_result"
    }
   ],
   "source": [
    "df_review.head(5)"
   ]
  },
  {
   "cell_type": "markdown",
   "id": "e85c16f5",
   "metadata": {},
   "source": [
    "Необходимо удалить все лишние столбцы с датами отзыва и оставить только обработанный и преобразованный в datetime формат"
   ]
  },
  {
   "cell_type": "code",
   "execution_count": 28,
   "id": "07f3b93c",
   "metadata": {},
   "outputs": [],
   "source": [
    "df_review = df_review.drop(['Дата отзыва','date_temp','time','day','month','year'], axis=1)"
   ]
  },
  {
   "cell_type": "markdown",
   "id": "276ed7b6",
   "metadata": {},
   "source": [
    "Из столбца Кол-во звезд удаляем слово star, чтобы в столбце остались только числовые значения"
   ]
  },
  {
   "cell_type": "code",
   "execution_count": 29,
   "id": "18cb5c85",
   "metadata": {},
   "outputs": [],
   "source": [
    "df_review['Кол-во звезд']=df_review['Кол-во звезд'].str.replace('star','')"
   ]
  },
  {
   "cell_type": "markdown",
   "id": "dc21dc60",
   "metadata": {},
   "source": [
    "Кол-во пустых значений в столбцах"
   ]
  },
  {
   "cell_type": "code",
   "execution_count": 30,
   "id": "82da05f5",
   "metadata": {},
   "outputs": [
    {
     "data": {
      "text/plain": [
       "Автор                           0\n",
       "Статус заказа                7485\n",
       "Кол-во звезд                    0\n",
       "Текст отзыва                  322\n",
       "Артикул                         0\n",
       "Бренд                         452\n",
       "Наименование                    0\n",
       "Кол-во оценок                   0\n",
       "Общая оценка товара             0\n",
       "Текущая цена до скидки          0\n",
       "Текущая цена после скидки       0\n",
       "Дата                          231\n",
       "dtype: int64"
      ]
     },
     "execution_count": 30,
     "metadata": {},
     "output_type": "execute_result"
    }
   ],
   "source": [
    "df_review.isna().sum()"
   ]
  },
  {
   "cell_type": "markdown",
   "id": "80a3804b",
   "metadata": {},
   "source": [
    "У столбца Статус заказа очень много пустых значения, пустые ячейки заполняем значением Неизвестно\n"
   ]
  },
  {
   "cell_type": "code",
   "execution_count": 31,
   "id": "a8787711",
   "metadata": {},
   "outputs": [],
   "source": [
    "df_review['Статус заказа']=df_review['Статус заказа'].fillna('Неизвестно')"
   ]
  },
  {
   "cell_type": "markdown",
   "id": "45e18a20",
   "metadata": {},
   "source": [
    "В столбце Текст отзыва тоже есть пустые значения, необходимо заполнить значение Пусто"
   ]
  },
  {
   "cell_type": "code",
   "execution_count": 32,
   "id": "de710eaf",
   "metadata": {},
   "outputs": [],
   "source": [
    "df_review['Текст отзыва']=df_review['Текст отзыва'].fillna('Пусто')"
   ]
  },
  {
   "cell_type": "markdown",
   "id": "4d8f7a33",
   "metadata": {},
   "source": [
    "Необходимо у столбца Кол-во звезд задать числовой тип"
   ]
  },
  {
   "cell_type": "code",
   "execution_count": 33,
   "id": "7918a03a",
   "metadata": {},
   "outputs": [
    {
     "name": "stdout",
     "output_type": "stream",
     "text": [
      "<class 'pandas.core.frame.DataFrame'>\n",
      "RangeIndex: 45479 entries, 1 to 45479\n",
      "Data columns (total 12 columns):\n",
      " #   Column                     Non-Null Count  Dtype         \n",
      "---  ------                     --------------  -----         \n",
      " 0   Автор                      45479 non-null  object        \n",
      " 1   Статус заказа              45479 non-null  object        \n",
      " 2   Кол-во звезд               45479 non-null  object        \n",
      " 3   Текст отзыва               45479 non-null  object        \n",
      " 4   Артикул                    45479 non-null  float64       \n",
      " 5   Бренд                      45027 non-null  object        \n",
      " 6   Наименование               45479 non-null  object        \n",
      " 7   Кол-во оценок              45479 non-null  int64         \n",
      " 8   Общая оценка товара        45479 non-null  float64       \n",
      " 9   Текущая цена до скидки     45479 non-null  float64       \n",
      " 10  Текущая цена после скидки  45479 non-null  float64       \n",
      " 11  Дата                       45248 non-null  datetime64[ns]\n",
      "dtypes: datetime64[ns](1), float64(4), int64(1), object(6)\n",
      "memory usage: 4.2+ MB\n"
     ]
    }
   ],
   "source": [
    "df_review.info()"
   ]
  },
  {
   "cell_type": "code",
   "execution_count": 34,
   "id": "33eb2f43",
   "metadata": {},
   "outputs": [
    {
     "name": "stdout",
     "output_type": "stream",
     "text": [
      "Уникальные значения столбца Кол-во звезд: ['5' '1' '2' '3' '4']\n"
     ]
    }
   ],
   "source": [
    "print(f\"Уникальные значения столбца Кол-во звезд: {df_review['Кол-во звезд'].unique()}\")"
   ]
  },
  {
   "cell_type": "code",
   "execution_count": 35,
   "id": "33afb5dc",
   "metadata": {},
   "outputs": [],
   "source": [
    "df_review=df_review.astype({'Кол-во звезд': int\n",
    "                            })"
   ]
  },
  {
   "cell_type": "markdown",
   "id": "11c05cbd",
   "metadata": {},
   "source": [
    "Размер датасета"
   ]
  },
  {
   "cell_type": "code",
   "execution_count": 36,
   "id": "57dc5940",
   "metadata": {},
   "outputs": [
    {
     "data": {
      "text/plain": [
       "(45479, 12)"
      ]
     },
     "execution_count": 36,
     "metadata": {},
     "output_type": "execute_result"
    }
   ],
   "source": [
    "df_review.shape"
   ]
  },
  {
   "cell_type": "markdown",
   "id": "2b127de7",
   "metadata": {},
   "source": [
    "У столбца автор очень мало уникальных значений. У даты скорее всего из-за времени"
   ]
  },
  {
   "cell_type": "code",
   "execution_count": 37,
   "id": "9241e0e9",
   "metadata": {},
   "outputs": [
    {
     "data": {
      "text/plain": [
       "Автор                         1551\n",
       "Статус заказа                   74\n",
       "Кол-во звезд                     5\n",
       "Текст отзыва                 11225\n",
       "Артикул                         99\n",
       "Бренд                           51\n",
       "Наименование                    60\n",
       "Кол-во оценок                   95\n",
       "Общая оценка товара              8\n",
       "Текущая цена до скидки          65\n",
       "Текущая цена после скидки       70\n",
       "Дата                         11774\n",
       "dtype: int64"
      ]
     },
     "execution_count": 37,
     "metadata": {},
     "output_type": "execute_result"
    }
   ],
   "source": [
    "df_review.nunique()"
   ]
  },
  {
   "cell_type": "markdown",
   "id": "ab2025e0",
   "metadata": {},
   "source": [
    "Очень много анонимных отзывов"
   ]
  },
  {
   "cell_type": "code",
   "execution_count": 38,
   "id": "7406a5f1",
   "metadata": {},
   "outputs": [
    {
     "data": {
      "text/plain": [
       "Автор\n",
       "Элизавета                    2\n",
       "Алексей Николаевич           2\n",
       "Nastassja                    2\n",
       "РАИСА                        2\n",
       "Наталья Л                    2\n",
       "                          ... \n",
       "Анна                      1554\n",
       "Екатерина                 1560\n",
       "Анастасия                 1780\n",
       "Елена                     1798\n",
       "Покупатель Wildberries    4356\n",
       "Name: count, Length: 1551, dtype: int64"
      ]
     },
     "execution_count": 38,
     "metadata": {},
     "output_type": "execute_result"
    }
   ],
   "source": [
    "df_review['Автор'].value_counts(ascending=True)"
   ]
  },
  {
   "cell_type": "markdown",
   "id": "5a4ac7fc",
   "metadata": {},
   "source": [
    "Если при расчете кол-ва уникальных значений столбца Дата смотреть только на дату, то кол-во будет меньше"
   ]
  },
  {
   "cell_type": "code",
   "execution_count": 39,
   "id": "f60480c1",
   "metadata": {},
   "outputs": [
    {
     "data": {
      "text/plain": [
       "810"
      ]
     },
     "execution_count": 39,
     "metadata": {},
     "output_type": "execute_result"
    }
   ],
   "source": [
    "df_review['Дата'].dt.date.nunique()"
   ]
  },
  {
   "cell_type": "markdown",
   "id": "ee540530",
   "metadata": {},
   "source": [
    "Основная описательная статистика\n",
    "Для просмотра числовых данных, надо исключить Артикул"
   ]
  },
  {
   "cell_type": "code",
   "execution_count": 40,
   "id": "f4e6dc5f",
   "metadata": {},
   "outputs": [
    {
     "data": {
      "text/html": [
       "<div>\n",
       "<style scoped>\n",
       "    .dataframe tbody tr th:only-of-type {\n",
       "        vertical-align: middle;\n",
       "    }\n",
       "\n",
       "    .dataframe tbody tr th {\n",
       "        vertical-align: top;\n",
       "    }\n",
       "\n",
       "    .dataframe thead th {\n",
       "        text-align: right;\n",
       "    }\n",
       "</style>\n",
       "<table border=\"1\" class=\"dataframe\">\n",
       "  <thead>\n",
       "    <tr style=\"text-align: right;\">\n",
       "      <th></th>\n",
       "      <th>Кол-во звезд</th>\n",
       "      <th>Кол-во оценок</th>\n",
       "      <th>Общая оценка товара</th>\n",
       "      <th>Текущая цена до скидки</th>\n",
       "      <th>Текущая цена после скидки</th>\n",
       "      <th>Дата</th>\n",
       "    </tr>\n",
       "  </thead>\n",
       "  <tbody>\n",
       "    <tr>\n",
       "      <th>count</th>\n",
       "      <td>45479.000000</td>\n",
       "      <td>45479.000000</td>\n",
       "      <td>45479.000000</td>\n",
       "      <td>45479.000000</td>\n",
       "      <td>45479.000000</td>\n",
       "      <td>45248</td>\n",
       "    </tr>\n",
       "    <tr>\n",
       "      <th>mean</th>\n",
       "      <td>4.501000</td>\n",
       "      <td>2090.608149</td>\n",
       "      <td>4.819686</td>\n",
       "      <td>1980.906990</td>\n",
       "      <td>396.716704</td>\n",
       "      <td>2025-02-12 12:14:47.575141632</td>\n",
       "    </tr>\n",
       "    <tr>\n",
       "      <th>min</th>\n",
       "      <td>1.000000</td>\n",
       "      <td>3.000000</td>\n",
       "      <td>4.000000</td>\n",
       "      <td>192.000000</td>\n",
       "      <td>81.000000</td>\n",
       "      <td>2022-06-05 11:11:00</td>\n",
       "    </tr>\n",
       "    <tr>\n",
       "      <th>25%</th>\n",
       "      <td>5.000000</td>\n",
       "      <td>443.000000</td>\n",
       "      <td>4.800000</td>\n",
       "      <td>1068.000000</td>\n",
       "      <td>325.000000</td>\n",
       "      <td>2024-11-29 18:16:45</td>\n",
       "    </tr>\n",
       "    <tr>\n",
       "      <th>50%</th>\n",
       "      <td>5.000000</td>\n",
       "      <td>1344.000000</td>\n",
       "      <td>4.800000</td>\n",
       "      <td>1760.000000</td>\n",
       "      <td>372.000000</td>\n",
       "      <td>2025-02-22 15:55:00</td>\n",
       "    </tr>\n",
       "    <tr>\n",
       "      <th>75%</th>\n",
       "      <td>5.000000</td>\n",
       "      <td>2913.000000</td>\n",
       "      <td>4.900000</td>\n",
       "      <td>2550.000000</td>\n",
       "      <td>451.000000</td>\n",
       "      <td>2025-07-09 10:48:00</td>\n",
       "    </tr>\n",
       "    <tr>\n",
       "      <th>max</th>\n",
       "      <td>5.000000</td>\n",
       "      <td>11736.000000</td>\n",
       "      <td>5.000000</td>\n",
       "      <td>8750.000000</td>\n",
       "      <td>856.000000</td>\n",
       "      <td>2025-09-13 23:53:00</td>\n",
       "    </tr>\n",
       "    <tr>\n",
       "      <th>std</th>\n",
       "      <td>1.098493</td>\n",
       "      <td>2388.871233</td>\n",
       "      <td>0.121113</td>\n",
       "      <td>1301.501414</td>\n",
       "      <td>136.375017</td>\n",
       "      <td>NaN</td>\n",
       "    </tr>\n",
       "  </tbody>\n",
       "</table>\n",
       "</div>"
      ],
      "text/plain": [
       "       Кол-во звезд  Кол-во оценок  Общая оценка товара  \\\n",
       "count  45479.000000   45479.000000         45479.000000   \n",
       "mean       4.501000    2090.608149             4.819686   \n",
       "min        1.000000       3.000000             4.000000   \n",
       "25%        5.000000     443.000000             4.800000   \n",
       "50%        5.000000    1344.000000             4.800000   \n",
       "75%        5.000000    2913.000000             4.900000   \n",
       "max        5.000000   11736.000000             5.000000   \n",
       "std        1.098493    2388.871233             0.121113   \n",
       "\n",
       "       Текущая цена до скидки  Текущая цена после скидки  \\\n",
       "count            45479.000000               45479.000000   \n",
       "mean              1980.906990                 396.716704   \n",
       "min                192.000000                  81.000000   \n",
       "25%               1068.000000                 325.000000   \n",
       "50%               1760.000000                 372.000000   \n",
       "75%               2550.000000                 451.000000   \n",
       "max               8750.000000                 856.000000   \n",
       "std               1301.501414                 136.375017   \n",
       "\n",
       "                                Дата  \n",
       "count                          45248  \n",
       "mean   2025-02-12 12:14:47.575141632  \n",
       "min              2022-06-05 11:11:00  \n",
       "25%              2024-11-29 18:16:45  \n",
       "50%              2025-02-22 15:55:00  \n",
       "75%              2025-07-09 10:48:00  \n",
       "max              2025-09-13 23:53:00  \n",
       "std                              NaN  "
      ]
     },
     "execution_count": 40,
     "metadata": {},
     "output_type": "execute_result"
    }
   ],
   "source": [
    "df_review.loc[:,df_review.columns!='Артикул'].describe()"
   ]
  },
  {
   "cell_type": "markdown",
   "id": "c008eab0",
   "metadata": {},
   "source": [
    "- Нет выбросов. Лушче Кол-во звезд и дату смотреть как нечисловые данные"
   ]
  },
  {
   "cell_type": "markdown",
   "id": "43d720f7",
   "metadata": {},
   "source": [
    "Оценка 5 чаще всего встречается"
   ]
  },
  {
   "cell_type": "code",
   "execution_count": 41,
   "id": "c36767e8",
   "metadata": {},
   "outputs": [
    {
     "data": {
      "text/plain": [
       "count     45479\n",
       "unique        5\n",
       "top           5\n",
       "freq      35797\n",
       "Name: Кол-во звезд, dtype: object"
      ]
     },
     "execution_count": 41,
     "metadata": {},
     "output_type": "execute_result"
    }
   ],
   "source": [
    "df_review['Кол-во звезд'].astype(str).describe()"
   ]
  },
  {
   "cell_type": "markdown",
   "id": "d13f2ffc",
   "metadata": {},
   "source": [
    "28 апреля 2025 было больше всего отзывов"
   ]
  },
  {
   "cell_type": "code",
   "execution_count": 42,
   "id": "477f78bc",
   "metadata": {},
   "outputs": [
    {
     "data": {
      "text/plain": [
       "count          45248\n",
       "unique           810\n",
       "top       2025-09-10\n",
       "freq             536\n",
       "Name: Дата, dtype: object"
      ]
     },
     "execution_count": 42,
     "metadata": {},
     "output_type": "execute_result"
    }
   ],
   "source": [
    "df_review['Дата'].dt.date.describe()"
   ]
  },
  {
   "cell_type": "markdown",
   "id": "c966084e",
   "metadata": {},
   "source": [
    "Много анонимных отзывов. Чаще всего отзывы оставляют покупатели, которые выкупили товар"
   ]
  },
  {
   "cell_type": "code",
   "execution_count": 43,
   "id": "4798f329",
   "metadata": {},
   "outputs": [
    {
     "data": {
      "text/html": [
       "<div>\n",
       "<style scoped>\n",
       "    .dataframe tbody tr th:only-of-type {\n",
       "        vertical-align: middle;\n",
       "    }\n",
       "\n",
       "    .dataframe tbody tr th {\n",
       "        vertical-align: top;\n",
       "    }\n",
       "\n",
       "    .dataframe thead th {\n",
       "        text-align: right;\n",
       "    }\n",
       "</style>\n",
       "<table border=\"1\" class=\"dataframe\">\n",
       "  <thead>\n",
       "    <tr style=\"text-align: right;\">\n",
       "      <th></th>\n",
       "      <th>Автор</th>\n",
       "      <th>Статус заказа</th>\n",
       "      <th>Текст отзыва</th>\n",
       "      <th>Бренд</th>\n",
       "      <th>Наименование</th>\n",
       "    </tr>\n",
       "  </thead>\n",
       "  <tbody>\n",
       "    <tr>\n",
       "      <th>count</th>\n",
       "      <td>45479</td>\n",
       "      <td>45479</td>\n",
       "      <td>45479</td>\n",
       "      <td>45027</td>\n",
       "      <td>45479</td>\n",
       "    </tr>\n",
       "    <tr>\n",
       "      <th>unique</th>\n",
       "      <td>1551</td>\n",
       "      <td>74</td>\n",
       "      <td>11225</td>\n",
       "      <td>51</td>\n",
       "      <td>60</td>\n",
       "    </tr>\n",
       "    <tr>\n",
       "      <th>top</th>\n",
       "      <td>Покупатель Wildberries</td>\n",
       "      <td>Выкупили</td>\n",
       "      <td>Пусто</td>\n",
       "      <td>HARMОNY HOMЕ</td>\n",
       "      <td>Свечи ароматические подарочный набор</td>\n",
       "    </tr>\n",
       "    <tr>\n",
       "      <th>freq</th>\n",
       "      <td>4356</td>\n",
       "      <td>24384</td>\n",
       "      <td>322</td>\n",
       "      <td>3912</td>\n",
       "      <td>5870</td>\n",
       "    </tr>\n",
       "  </tbody>\n",
       "</table>\n",
       "</div>"
      ],
      "text/plain": [
       "                         Автор Статус заказа Текст отзыва         Бренд  \\\n",
       "count                    45479         45479        45479         45027   \n",
       "unique                    1551            74        11225            51   \n",
       "top     Покупатель Wildberries      Выкупили        Пусто  HARMОNY HOMЕ   \n",
       "freq                      4356         24384          322          3912   \n",
       "\n",
       "                                Наименование  \n",
       "count                                  45479  \n",
       "unique                                    60  \n",
       "top     Свечи ароматические подарочный набор  \n",
       "freq                                    5870  "
      ]
     },
     "execution_count": 43,
     "metadata": {},
     "output_type": "execute_result"
    }
   ],
   "source": [
    "df_review.describe(include=[\"object\", \"bool\"])"
   ]
  },
  {
   "cell_type": "markdown",
   "id": "e810b83c",
   "metadata": {},
   "source": [
    "# EDA"
   ]
  },
  {
   "cell_type": "markdown",
   "id": "568acb2a",
   "metadata": {},
   "source": [
    "Гипотезы:\n",
    "1. Чем выше оценка, тем чаще в отзыве чаще встречаются слова \"хорошо\" \"отлично\"\n",
    "2. Чем ниже оценка, тем чаще в отзыве чаще встречаются слова \"плохо\" \"ужасно\"\n"
   ]
  },
  {
   "cell_type": "markdown",
   "id": "aef6af09",
   "metadata": {},
   "source": [
    "Гипотеза 1. Чем выше оценка, тем чаще в отзыве чаще встречаются слова \"хорошо\" \"отлично\""
   ]
  },
  {
   "cell_type": "code",
   "execution_count": 44,
   "id": "b52403eb",
   "metadata": {},
   "outputs": [],
   "source": [
    "df_review['Текст отзыва']=df_review['Текст отзыва'].str.lower()\n",
    "df_review['Have_positive_words'] = df_review['Текст отзыва'].str.contains(\"хорош|отличн\", regex=True)"
   ]
  },
  {
   "cell_type": "code",
   "execution_count": 45,
   "id": "5ce08551",
   "metadata": {},
   "outputs": [
    {
     "data": {
      "image/png": "[encoded data removed]",
      "text/plain": [
       "<Figure size 700x500 with 1 Axes>"
      ]
     },
     "metadata": {},
     "output_type": "display_data"
    }
   ],
   "source": [
    "plt.figure(figsize=(7,5))\n",
    "sns.countplot(data=df_review, x='Кол-во звезд', hue='Have_positive_words')\n",
    "plt.ylabel('Кол-во отзывов')\n",
    "plt.title('Отзывы с позитвными словами по оценкам')\n",
    "plt.show()"
   ]
  },
  {
   "cell_type": "code",
   "execution_count": 46,
   "id": "c9c657f6",
   "metadata": {},
   "outputs": [
    {
     "data": {
      "image/png": "[encoded data removed]",
      "text/plain": [
       "<Figure size 700x500 with 1 Axes>"
      ]
     },
     "metadata": {},
     "output_type": "display_data"
    }
   ],
   "source": [
    "plt.figure(figsize=(7,5))\n",
    "sns.barplot(data=df_review, x='Кол-во звезд', y='Have_positive_words', estimator='mean', errorbar=None\n",
    ")\n",
    "plt.ylabel('Доля отзывов с позитивными словами')\n",
    "plt.title('Частота отзывов с позитивными словами по оценкам')\n",
    "plt.show()"
   ]
  },
  {
   "cell_type": "markdown",
   "id": "587fafde",
   "metadata": {},
   "source": [
    "- по графикам видно, что отзывы со словами \"хорошо\" или \"отлично\" встречаются чаще всего у отзывов с высокой оценкой"
   ]
  },
  {
   "cell_type": "markdown",
   "id": "d4a467e4",
   "metadata": {},
   "source": [
    "Гипотеза 2. Чем ниже оценка, тем чаще в отзыве чаще встречаются слова \"плохо\" \"ужасно\""
   ]
  },
  {
   "cell_type": "code",
   "execution_count": 47,
   "id": "cf875e50",
   "metadata": {},
   "outputs": [],
   "source": [
    "df_review['Have_negative_words'] = df_review['Текст отзыва'].str.contains(\"плох|ужасн\", regex=True)"
   ]
  },
  {
   "cell_type": "code",
   "execution_count": 48,
   "id": "4d3b8d3e",
   "metadata": {},
   "outputs": [
    {
     "data": {
      "image/png": "[encoded data removed]",
      "text/plain": [
       "<Figure size 700x500 with 1 Axes>"
      ]
     },
     "metadata": {},
     "output_type": "display_data"
    }
   ],
   "source": [
    "plt.figure(figsize=(7,5))\n",
    "sns.countplot(data=df_review, x='Кол-во звезд', hue='Have_negative_words')\n",
    "plt.ylabel('Количество отзывов')\n",
    "plt.title('Отзывы с негативными словами по оценкам')\n",
    "plt.show()"
   ]
  },
  {
   "cell_type": "code",
   "execution_count": 49,
   "id": "7f07f4a1",
   "metadata": {},
   "outputs": [
    {
     "data": {
      "image/png": "[encoded data removed]",
      "text/plain": [
       "<Figure size 700x500 with 1 Axes>"
      ]
     },
     "metadata": {},
     "output_type": "display_data"
    }
   ],
   "source": [
    "plt.figure(figsize=(7,5))\n",
    "sns.barplot(data=df_review, x='Кол-во звезд', y='Have_negative_words', estimator='mean', errorbar=None\n",
    ")\n",
    "plt.ylabel('Доля отзывов с негативными словами')\n",
    "plt.title('Частота отзывов с негативными словами по оценкам')\n",
    "plt.show()"
   ]
  },
  {
   "cell_type": "markdown",
   "id": "eeef3773",
   "metadata": {},
   "source": [
    "- Гипотеза о том, что в отзывах с низкой оценкой чаще встречаются негативные слова - не подтвердилась"
   ]
  }
 ],
 "metadata": {
  "kernelspec": {
   "display_name": "Python 3",
   "language": "python",
   "name": "python3"
  },
  "language_info": {
   "codemirror_mode": {
    "name": "ipython",
    "version": 3
   },
   "file_extension": ".py",
   "mimetype": "text/x-python",
   "name": "python",
   "nbconvert_exporter": "python",
   "pygments_lexer": "ipython3",
   "version": "3.10.11"
  }
 },
 "nbformat": 4,
 "nbformat_minor": 5
}
