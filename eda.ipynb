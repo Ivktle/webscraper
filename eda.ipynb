{
 "cells": [
  {
   "cell_type": "code",
   "execution_count": 74,
   "id": "b01fde19",
   "metadata": {},
   "outputs": [],
   "source": [
    "import pandas as pd\n",
    "import matplotlib.pyplot as plt\n",
    "import seaborn as sns\n",
    "\n",
    "RAND = 10"
   ]
  },
  {
   "cell_type": "markdown",
   "id": "f15c060c",
   "metadata": {},
   "source": [
    "# Импорт данных"
   ]
  },
  {
   "cell_type": "code",
   "execution_count": 75,
   "id": "30bc669f",
   "metadata": {},
   "outputs": [],
   "source": [
    "df_items = pd.read_csv('C:/Users/Oktyabrina/Desktop/webscraper/data/product.csv')\n",
    "df_items = df_items.drop(['nmFeedbacks','rating','root','optionId'], axis=1)\n",
    "df_review = pd.read_csv('C:/Users/Oktyabrina/Desktop/webscraper/data/review.csv')\n",
    "df_review = df_review.merge(df_items, left_on='Артикул', right_on='id')\n",
    "df_review = df_review.drop(['id'], axis=1)"
   ]
  },
  {
   "cell_type": "code",
   "execution_count": 76,
   "id": "6f2b741c",
   "metadata": {},
   "outputs": [
    {
     "data": {
      "text/html": [
       "<div>\n",
       "<style scoped>\n",
       "    .dataframe tbody tr th:only-of-type {\n",
       "        vertical-align: middle;\n",
       "    }\n",
       "\n",
       "    .dataframe tbody tr th {\n",
       "        vertical-align: top;\n",
       "    }\n",
       "\n",
       "    .dataframe thead th {\n",
       "        text-align: right;\n",
       "    }\n",
       "</style>\n",
       "<table border=\"1\" class=\"dataframe\">\n",
       "  <thead>\n",
       "    <tr style=\"text-align: right;\">\n",
       "      <th></th>\n",
       "      <th>Автор</th>\n",
       "      <th>Статус заказа</th>\n",
       "      <th>Дата отзыва</th>\n",
       "      <th>Кол-во звезд</th>\n",
       "      <th>Текст отзыва</th>\n",
       "      <th>Артикул</th>\n",
       "      <th>Бренд</th>\n",
       "      <th>Наименование</th>\n",
       "      <th>Кол-во оценок</th>\n",
       "      <th>Общая оценка товара</th>\n",
       "      <th>Текущая цена до скидки</th>\n",
       "      <th>Текущая цена после скидки</th>\n",
       "    </tr>\n",
       "  </thead>\n",
       "  <tbody>\n",
       "    <tr>\n",
       "      <th>0</th>\n",
       "      <td>Покупатель Wildberries</td>\n",
       "      <td>NaN</td>\n",
       "      <td>NaN</td>\n",
       "      <td>star5</td>\n",
       "      <td>Кошки едят хорошо, даже привереда</td>\n",
       "      <td>156278877.0</td>\n",
       "      <td>FELIX</td>\n",
       "      <td>Сухой корм для кошек с мясом 3 кг</td>\n",
       "      <td>16850</td>\n",
       "      <td>5.0</td>\n",
       "      <td>1295.0</td>\n",
       "      <td>854.0</td>\n",
       "    </tr>\n",
       "    <tr>\n",
       "      <th>1</th>\n",
       "      <td>Надежда</td>\n",
       "      <td>Выкупили</td>\n",
       "      <td>Сегодня, 17:47</td>\n",
       "      <td>star5</td>\n",
       "      <td>Недостатки:Т</td>\n",
       "      <td>156278877.0</td>\n",
       "      <td>FELIX</td>\n",
       "      <td>Сухой корм для кошек с мясом 3 кг</td>\n",
       "      <td>16850</td>\n",
       "      <td>5.0</td>\n",
       "      <td>1295.0</td>\n",
       "      <td>854.0</td>\n",
       "    </tr>\n",
       "    <tr>\n",
       "      <th>2</th>\n",
       "      <td>Юрий</td>\n",
       "      <td>Выкупили</td>\n",
       "      <td>Сегодня, 17:46</td>\n",
       "      <td>star5</td>\n",
       "      <td>Плюсы товаракачествонравится животнымудобно по...</td>\n",
       "      <td>156278877.0</td>\n",
       "      <td>FELIX</td>\n",
       "      <td>Сухой корм для кошек с мясом 3 кг</td>\n",
       "      <td>16850</td>\n",
       "      <td>5.0</td>\n",
       "      <td>1295.0</td>\n",
       "      <td>854.0</td>\n",
       "    </tr>\n",
       "    <tr>\n",
       "      <th>3</th>\n",
       "      <td>Анатолий</td>\n",
       "      <td>Выкупили</td>\n",
       "      <td>Сегодня, 16:53</td>\n",
       "      <td>star5</td>\n",
       "      <td>Плюсы товаранравится животным</td>\n",
       "      <td>156278877.0</td>\n",
       "      <td>FELIX</td>\n",
       "      <td>Сухой корм для кошек с мясом 3 кг</td>\n",
       "      <td>16850</td>\n",
       "      <td>5.0</td>\n",
       "      <td>1295.0</td>\n",
       "      <td>854.0</td>\n",
       "    </tr>\n",
       "    <tr>\n",
       "      <th>4</th>\n",
       "      <td>Валентина</td>\n",
       "      <td>Выкупили</td>\n",
       "      <td>Сегодня, 15:26</td>\n",
       "      <td>star5</td>\n",
       "      <td>Плюсы товаранравится животным</td>\n",
       "      <td>156278877.0</td>\n",
       "      <td>FELIX</td>\n",
       "      <td>Сухой корм для кошек с мясом 3 кг</td>\n",
       "      <td>16850</td>\n",
       "      <td>5.0</td>\n",
       "      <td>1295.0</td>\n",
       "      <td>854.0</td>\n",
       "    </tr>\n",
       "  </tbody>\n",
       "</table>\n",
       "</div>"
      ],
      "text/plain": [
       "                    Автор Статус заказа     Дата отзыва Кол-во звезд  \\\n",
       "0  Покупатель Wildberries           NaN             NaN        star5   \n",
       "1                 Надежда      Выкупили  Сегодня, 17:47        star5   \n",
       "2                    Юрий      Выкупили  Сегодня, 17:46        star5   \n",
       "3                Анатолий      Выкупили  Сегодня, 16:53        star5   \n",
       "4               Валентина      Выкупили  Сегодня, 15:26        star5   \n",
       "\n",
       "                                        Текст отзыва      Артикул  Бренд  \\\n",
       "0                  Кошки едят хорошо, даже привереда  156278877.0  FELIX   \n",
       "1                                       Недостатки:Т  156278877.0  FELIX   \n",
       "2  Плюсы товаракачествонравится животнымудобно по...  156278877.0  FELIX   \n",
       "3                      Плюсы товаранравится животным  156278877.0  FELIX   \n",
       "4                      Плюсы товаранравится животным  156278877.0  FELIX   \n",
       "\n",
       "                        Наименование  Кол-во оценок  Общая оценка товара  \\\n",
       "0  Сухой корм для кошек с мясом 3 кг          16850                  5.0   \n",
       "1  Сухой корм для кошек с мясом 3 кг          16850                  5.0   \n",
       "2  Сухой корм для кошек с мясом 3 кг          16850                  5.0   \n",
       "3  Сухой корм для кошек с мясом 3 кг          16850                  5.0   \n",
       "4  Сухой корм для кошек с мясом 3 кг          16850                  5.0   \n",
       "\n",
       "   Текущая цена до скидки  Текущая цена после скидки  \n",
       "0                  1295.0                      854.0  \n",
       "1                  1295.0                      854.0  \n",
       "2                  1295.0                      854.0  \n",
       "3                  1295.0                      854.0  \n",
       "4                  1295.0                      854.0  "
      ]
     },
     "execution_count": 76,
     "metadata": {},
     "output_type": "execute_result"
    }
   ],
   "source": [
    "df_review = df_review.rename(columns={'brand':'Бренд','name':'Наименование','feedbacks':'Кол-во оценок',\n",
    "                                      'reviewRating':'Общая оценка товара','basic':'Текущая цена до скидки','product':'Текущая цена после скидки',})\n",
    "df_review.head(5)"
   ]
  },
  {
   "cell_type": "markdown",
   "id": "1dce7fc1",
   "metadata": {},
   "source": [
    "**Дату отзывов необходимо преобразовать в нормальную дату**"
   ]
  },
  {
   "cell_type": "markdown",
   "id": "703f6e1a",
   "metadata": {},
   "source": [
    "На сайте Вайлдбериз у отзывов, которые были оставлены вчера-сегодня, вместо даты пишут \"Вчера\" или \"Сегодня\""
   ]
  },
  {
   "cell_type": "code",
   "execution_count": 77,
   "id": "4eba0600",
   "metadata": {},
   "outputs": [],
   "source": [
    "date_dict = {\n",
    "    'Сегодня': '15 сентября',\n",
    "    'Вчера': '14 сентября'\n",
    "}\n",
    "\n",
    "for old_value,new_value in date_dict.items():\n",
    "    df_review['Дата отзыва']=df_review['Дата отзыва'].str.replace(old_value,new_value, regex=True)\n"
   ]
  },
  {
   "cell_type": "code",
   "execution_count": 78,
   "id": "ebfe1713",
   "metadata": {},
   "outputs": [],
   "source": [
    "df_review[['date_temp','time']] = df_review['Дата отзыва'].str.replace(' · Дополнен','').str.split(',', expand=True)\n",
    "df_review[['day','month','year']]=df_review['date_temp'].str.split(expand=True)\n",
    "df_review['year']=df_review['year'].fillna('2025')"
   ]
  },
  {
   "cell_type": "markdown",
   "id": "8021eb12",
   "metadata": {},
   "source": [
    "Названия месяцев написаны на русском со склонением. Необходимо вместо них подставить номер месяца"
   ]
  },
  {
   "cell_type": "code",
   "execution_count": 79,
   "id": "17b90c90",
   "metadata": {},
   "outputs": [],
   "source": [
    "month_dict = {'января':'01',\n",
    "              'февраля':'02',\n",
    "              'марта':'03',\n",
    "              'апреля':'04',\n",
    "              'мая':'05',\n",
    "              'июня':'06',\n",
    "              'июля':'07',\n",
    "              'августа':'08',\n",
    "              'сентября':'09',\n",
    "              'октября':'10',\n",
    "              'ноября':'11',\n",
    "              'декабря':'12'}\n",
    "for old_value,new_value in month_dict.items():\n",
    "    df_review['month']=df_review['month'].str.replace(old_value,new_value, regex=False)\n",
    "\n",
    "df_review['Дата'] = pd.to_datetime(\n",
    "    df_review['day']+'.'+df_review['month']+'.'+df_review['year']+df_review['time'],\n",
    "    format=\"%d.%m.%Y %H:%M\"\n",
    ")"
   ]
  },
  {
   "cell_type": "code",
   "execution_count": 80,
   "id": "097d723f",
   "metadata": {},
   "outputs": [
    {
     "data": {
      "text/html": [
       "<div>\n",
       "<style scoped>\n",
       "    .dataframe tbody tr th:only-of-type {\n",
       "        vertical-align: middle;\n",
       "    }\n",
       "\n",
       "    .dataframe tbody tr th {\n",
       "        vertical-align: top;\n",
       "    }\n",
       "\n",
       "    .dataframe thead th {\n",
       "        text-align: right;\n",
       "    }\n",
       "</style>\n",
       "<table border=\"1\" class=\"dataframe\">\n",
       "  <thead>\n",
       "    <tr style=\"text-align: right;\">\n",
       "      <th></th>\n",
       "      <th>Автор</th>\n",
       "      <th>Статус заказа</th>\n",
       "      <th>Дата отзыва</th>\n",
       "      <th>Кол-во звезд</th>\n",
       "      <th>Текст отзыва</th>\n",
       "      <th>Артикул</th>\n",
       "      <th>Бренд</th>\n",
       "      <th>Наименование</th>\n",
       "      <th>Кол-во оценок</th>\n",
       "      <th>Общая оценка товара</th>\n",
       "      <th>Текущая цена до скидки</th>\n",
       "      <th>Текущая цена после скидки</th>\n",
       "      <th>date_temp</th>\n",
       "      <th>time</th>\n",
       "      <th>day</th>\n",
       "      <th>month</th>\n",
       "      <th>year</th>\n",
       "      <th>Дата</th>\n",
       "    </tr>\n",
       "  </thead>\n",
       "  <tbody>\n",
       "    <tr>\n",
       "      <th>0</th>\n",
       "      <td>Покупатель Wildberries</td>\n",
       "      <td>NaN</td>\n",
       "      <td>NaN</td>\n",
       "      <td>star5</td>\n",
       "      <td>Кошки едят хорошо, даже привереда</td>\n",
       "      <td>156278877.0</td>\n",
       "      <td>FELIX</td>\n",
       "      <td>Сухой корм для кошек с мясом 3 кг</td>\n",
       "      <td>16850</td>\n",
       "      <td>5.0</td>\n",
       "      <td>1295.0</td>\n",
       "      <td>854.0</td>\n",
       "      <td>NaN</td>\n",
       "      <td>NaN</td>\n",
       "      <td>NaN</td>\n",
       "      <td>NaN</td>\n",
       "      <td>2025</td>\n",
       "      <td>NaT</td>\n",
       "    </tr>\n",
       "    <tr>\n",
       "      <th>1</th>\n",
       "      <td>Надежда</td>\n",
       "      <td>Выкупили</td>\n",
       "      <td>15 сентября, 17:47</td>\n",
       "      <td>star5</td>\n",
       "      <td>Недостатки:Т</td>\n",
       "      <td>156278877.0</td>\n",
       "      <td>FELIX</td>\n",
       "      <td>Сухой корм для кошек с мясом 3 кг</td>\n",
       "      <td>16850</td>\n",
       "      <td>5.0</td>\n",
       "      <td>1295.0</td>\n",
       "      <td>854.0</td>\n",
       "      <td>15 сентября</td>\n",
       "      <td>17:47</td>\n",
       "      <td>15</td>\n",
       "      <td>09</td>\n",
       "      <td>2025</td>\n",
       "      <td>2025-09-15 17:47:00</td>\n",
       "    </tr>\n",
       "    <tr>\n",
       "      <th>2</th>\n",
       "      <td>Юрий</td>\n",
       "      <td>Выкупили</td>\n",
       "      <td>15 сентября, 17:46</td>\n",
       "      <td>star5</td>\n",
       "      <td>Плюсы товаракачествонравится животнымудобно по...</td>\n",
       "      <td>156278877.0</td>\n",
       "      <td>FELIX</td>\n",
       "      <td>Сухой корм для кошек с мясом 3 кг</td>\n",
       "      <td>16850</td>\n",
       "      <td>5.0</td>\n",
       "      <td>1295.0</td>\n",
       "      <td>854.0</td>\n",
       "      <td>15 сентября</td>\n",
       "      <td>17:46</td>\n",
       "      <td>15</td>\n",
       "      <td>09</td>\n",
       "      <td>2025</td>\n",
       "      <td>2025-09-15 17:46:00</td>\n",
       "    </tr>\n",
       "    <tr>\n",
       "      <th>3</th>\n",
       "      <td>Анатолий</td>\n",
       "      <td>Выкупили</td>\n",
       "      <td>15 сентября, 16:53</td>\n",
       "      <td>star5</td>\n",
       "      <td>Плюсы товаранравится животным</td>\n",
       "      <td>156278877.0</td>\n",
       "      <td>FELIX</td>\n",
       "      <td>Сухой корм для кошек с мясом 3 кг</td>\n",
       "      <td>16850</td>\n",
       "      <td>5.0</td>\n",
       "      <td>1295.0</td>\n",
       "      <td>854.0</td>\n",
       "      <td>15 сентября</td>\n",
       "      <td>16:53</td>\n",
       "      <td>15</td>\n",
       "      <td>09</td>\n",
       "      <td>2025</td>\n",
       "      <td>2025-09-15 16:53:00</td>\n",
       "    </tr>\n",
       "    <tr>\n",
       "      <th>4</th>\n",
       "      <td>Валентина</td>\n",
       "      <td>Выкупили</td>\n",
       "      <td>15 сентября, 15:26</td>\n",
       "      <td>star5</td>\n",
       "      <td>Плюсы товаранравится животным</td>\n",
       "      <td>156278877.0</td>\n",
       "      <td>FELIX</td>\n",
       "      <td>Сухой корм для кошек с мясом 3 кг</td>\n",
       "      <td>16850</td>\n",
       "      <td>5.0</td>\n",
       "      <td>1295.0</td>\n",
       "      <td>854.0</td>\n",
       "      <td>15 сентября</td>\n",
       "      <td>15:26</td>\n",
       "      <td>15</td>\n",
       "      <td>09</td>\n",
       "      <td>2025</td>\n",
       "      <td>2025-09-15 15:26:00</td>\n",
       "    </tr>\n",
       "  </tbody>\n",
       "</table>\n",
       "</div>"
      ],
      "text/plain": [
       "                    Автор Статус заказа         Дата отзыва Кол-во звезд  \\\n",
       "0  Покупатель Wildberries           NaN                 NaN        star5   \n",
       "1                 Надежда      Выкупили  15 сентября, 17:47        star5   \n",
       "2                    Юрий      Выкупили  15 сентября, 17:46        star5   \n",
       "3                Анатолий      Выкупили  15 сентября, 16:53        star5   \n",
       "4               Валентина      Выкупили  15 сентября, 15:26        star5   \n",
       "\n",
       "                                        Текст отзыва      Артикул  Бренд  \\\n",
       "0                  Кошки едят хорошо, даже привереда  156278877.0  FELIX   \n",
       "1                                       Недостатки:Т  156278877.0  FELIX   \n",
       "2  Плюсы товаракачествонравится животнымудобно по...  156278877.0  FELIX   \n",
       "3                      Плюсы товаранравится животным  156278877.0  FELIX   \n",
       "4                      Плюсы товаранравится животным  156278877.0  FELIX   \n",
       "\n",
       "                        Наименование  Кол-во оценок  Общая оценка товара  \\\n",
       "0  Сухой корм для кошек с мясом 3 кг          16850                  5.0   \n",
       "1  Сухой корм для кошек с мясом 3 кг          16850                  5.0   \n",
       "2  Сухой корм для кошек с мясом 3 кг          16850                  5.0   \n",
       "3  Сухой корм для кошек с мясом 3 кг          16850                  5.0   \n",
       "4  Сухой корм для кошек с мясом 3 кг          16850                  5.0   \n",
       "\n",
       "   Текущая цена до скидки  Текущая цена после скидки    date_temp    time  \\\n",
       "0                  1295.0                      854.0          NaN     NaN   \n",
       "1                  1295.0                      854.0  15 сентября   17:47   \n",
       "2                  1295.0                      854.0  15 сентября   17:46   \n",
       "3                  1295.0                      854.0  15 сентября   16:53   \n",
       "4                  1295.0                      854.0  15 сентября   15:26   \n",
       "\n",
       "   day month  year                Дата  \n",
       "0  NaN   NaN  2025                 NaT  \n",
       "1   15    09  2025 2025-09-15 17:47:00  \n",
       "2   15    09  2025 2025-09-15 17:46:00  \n",
       "3   15    09  2025 2025-09-15 16:53:00  \n",
       "4   15    09  2025 2025-09-15 15:26:00  "
      ]
     },
     "execution_count": 80,
     "metadata": {},
     "output_type": "execute_result"
    }
   ],
   "source": [
    "df_review.head(5)"
   ]
  },
  {
   "cell_type": "markdown",
   "id": "e85c16f5",
   "metadata": {},
   "source": [
    "Необходимо удалить все лишние столбцы с датами отзыва и оставить только обработанный и преобразованный в datetime формат"
   ]
  },
  {
   "cell_type": "code",
   "execution_count": 81,
   "id": "07f3b93c",
   "metadata": {},
   "outputs": [],
   "source": [
    "df_review = df_review.drop(['Дата отзыва','date_temp','time','day','month','year'], axis=1)"
   ]
  },
  {
   "cell_type": "markdown",
   "id": "276ed7b6",
   "metadata": {},
   "source": [
    "Из столбца Кол-во звезд удаляем слово star, чтобы в столбце остались только числовые значения"
   ]
  },
  {
   "cell_type": "code",
   "execution_count": 82,
   "id": "18cb5c85",
   "metadata": {},
   "outputs": [],
   "source": [
    "df_review['Кол-во звезд']=df_review['Кол-во звезд'].str.replace('star','')"
   ]
  },
  {
   "cell_type": "markdown",
   "id": "dc21dc60",
   "metadata": {},
   "source": [
    "Кол-во пустых значений в столбцах"
   ]
  },
  {
   "cell_type": "code",
   "execution_count": 83,
   "id": "82da05f5",
   "metadata": {},
   "outputs": [
    {
     "data": {
      "text/plain": [
       "Автор                            0\n",
       "Статус заказа                14771\n",
       "Кол-во звезд                     0\n",
       "Текст отзыва                    90\n",
       "Артикул                          0\n",
       "Бренд                            0\n",
       "Наименование                     0\n",
       "Кол-во оценок                    0\n",
       "Общая оценка товара              0\n",
       "Текущая цена до скидки           0\n",
       "Текущая цена после скидки        0\n",
       "Дата                            55\n",
       "dtype: int64"
      ]
     },
     "execution_count": 83,
     "metadata": {},
     "output_type": "execute_result"
    }
   ],
   "source": [
    "df_review.isna().sum()"
   ]
  },
  {
   "cell_type": "markdown",
   "id": "80a3804b",
   "metadata": {},
   "source": [
    "У столбца Статус заказа очень много пустых значения, пустые ячейки заполняем значением Неизвестно\n"
   ]
  },
  {
   "cell_type": "code",
   "execution_count": 84,
   "id": "a8787711",
   "metadata": {},
   "outputs": [],
   "source": [
    "df_review['Статус заказа']=df_review['Статус заказа'].fillna('Неизвестно')"
   ]
  },
  {
   "cell_type": "markdown",
   "id": "45e18a20",
   "metadata": {},
   "source": [
    "В столбце Текст отзыва тоже есть пустые значения, необходимо заполнить значение Пусто"
   ]
  },
  {
   "cell_type": "code",
   "execution_count": 85,
   "id": "de710eaf",
   "metadata": {},
   "outputs": [],
   "source": [
    "df_review['Текст отзыва']=df_review['Текст отзыва'].fillna('Пусто')"
   ]
  },
  {
   "cell_type": "markdown",
   "id": "fc029969",
   "metadata": {},
   "source": [
    "У закрепленных отзывов отсутствуют даты. Заполним их медианами"
   ]
  },
  {
   "cell_type": "code",
   "execution_count": 86,
   "id": "ab83c712",
   "metadata": {},
   "outputs": [],
   "source": [
    "df_review['Дата']=df_review.groupby('Артикул')['Дата'].transform(\n",
    "    lambda x: x.fillna(x.median())\n",
    ")"
   ]
  },
  {
   "cell_type": "markdown",
   "id": "4d8f7a33",
   "metadata": {},
   "source": [
    "Необходимо у столбца Кол-во звезд задать числовой тип"
   ]
  },
  {
   "cell_type": "code",
   "execution_count": 87,
   "id": "7918a03a",
   "metadata": {},
   "outputs": [
    {
     "name": "stdout",
     "output_type": "stream",
     "text": [
      "<class 'pandas.core.frame.DataFrame'>\n",
      "RangeIndex: 44933 entries, 0 to 44932\n",
      "Data columns (total 12 columns):\n",
      " #   Column                     Non-Null Count  Dtype         \n",
      "---  ------                     --------------  -----         \n",
      " 0   Автор                      44933 non-null  object        \n",
      " 1   Статус заказа              44933 non-null  object        \n",
      " 2   Кол-во звезд               44933 non-null  object        \n",
      " 3   Текст отзыва               44933 non-null  object        \n",
      " 4   Артикул                    44933 non-null  float64       \n",
      " 5   Бренд                      44933 non-null  object        \n",
      " 6   Наименование               44933 non-null  object        \n",
      " 7   Кол-во оценок              44933 non-null  int64         \n",
      " 8   Общая оценка товара        44933 non-null  float64       \n",
      " 9   Текущая цена до скидки     44933 non-null  float64       \n",
      " 10  Текущая цена после скидки  44933 non-null  float64       \n",
      " 11  Дата                       44933 non-null  datetime64[ns]\n",
      "dtypes: datetime64[ns](1), float64(4), int64(1), object(6)\n",
      "memory usage: 4.1+ MB\n"
     ]
    }
   ],
   "source": [
    "df_review.info()"
   ]
  },
  {
   "cell_type": "code",
   "execution_count": 88,
   "id": "33eb2f43",
   "metadata": {},
   "outputs": [
    {
     "name": "stdout",
     "output_type": "stream",
     "text": [
      "Уникальные значения столбца Кол-во звезд: ['5' '3' '1' '4' '2']\n"
     ]
    }
   ],
   "source": [
    "print(f\"Уникальные значения столбца Кол-во звезд: {df_review['Кол-во звезд'].unique()}\")"
   ]
  },
  {
   "cell_type": "code",
   "execution_count": 89,
   "id": "33afb5dc",
   "metadata": {},
   "outputs": [],
   "source": [
    "df_review=df_review.astype({'Кол-во звезд': int\n",
    "                            })"
   ]
  },
  {
   "cell_type": "markdown",
   "id": "11c05cbd",
   "metadata": {},
   "source": [
    "Размер датасета"
   ]
  },
  {
   "cell_type": "code",
   "execution_count": 90,
   "id": "57dc5940",
   "metadata": {},
   "outputs": [
    {
     "data": {
      "text/plain": [
       "(44933, 12)"
      ]
     },
     "execution_count": 90,
     "metadata": {},
     "output_type": "execute_result"
    }
   ],
   "source": [
    "df_review.shape"
   ]
  },
  {
   "cell_type": "markdown",
   "id": "2b127de7",
   "metadata": {},
   "source": [
    "У столбца автор очень мало уникальных значений. У даты скорее всего из-за времени"
   ]
  },
  {
   "cell_type": "code",
   "execution_count": 91,
   "id": "9241e0e9",
   "metadata": {},
   "outputs": [
    {
     "data": {
      "text/plain": [
       "Автор                         2623\n",
       "Статус заказа                    4\n",
       "Кол-во звезд                     5\n",
       "Текст отзыва                 33431\n",
       "Артикул                        196\n",
       "Бренд                           59\n",
       "Наименование                   180\n",
       "Кол-во оценок                  185\n",
       "Общая оценка товара              8\n",
       "Текущая цена до скидки         151\n",
       "Текущая цена после скидки      153\n",
       "Дата                         42387\n",
       "dtype: int64"
      ]
     },
     "execution_count": 91,
     "metadata": {},
     "output_type": "execute_result"
    }
   ],
   "source": [
    "df_review.nunique()"
   ]
  },
  {
   "cell_type": "markdown",
   "id": "ab2025e0",
   "metadata": {},
   "source": [
    "Очень много анонимных отзывов"
   ]
  },
  {
   "cell_type": "code",
   "execution_count": 92,
   "id": "7406a5f1",
   "metadata": {},
   "outputs": [
    {
     "data": {
      "text/plain": [
       "Автор\n",
       "Стэйша                       1\n",
       "Мария Семерьянова            1\n",
       "Трофимова Ирина              1\n",
       " Жанна                       1\n",
       "Парфенюк Елена               1\n",
       "                          ... \n",
       "Ольга                     2349\n",
       "Наталья                   2493\n",
       "Татьяна                   2507\n",
       "Елена                     3224\n",
       "Покупатель Wildberries    4990\n",
       "Name: count, Length: 2623, dtype: int64"
      ]
     },
     "execution_count": 92,
     "metadata": {},
     "output_type": "execute_result"
    }
   ],
   "source": [
    "df_review['Автор'].value_counts(ascending=True)"
   ]
  },
  {
   "cell_type": "markdown",
   "id": "5a4ac7fc",
   "metadata": {},
   "source": [
    "Если при расчете кол-ва уникальных значений столбца Дата смотреть только на дату, то кол-во будет меньше"
   ]
  },
  {
   "cell_type": "code",
   "execution_count": 93,
   "id": "f60480c1",
   "metadata": {},
   "outputs": [
    {
     "data": {
      "text/plain": [
       "1380"
      ]
     },
     "execution_count": 93,
     "metadata": {},
     "output_type": "execute_result"
    }
   ],
   "source": [
    "df_review['Дата'].dt.date.nunique()"
   ]
  },
  {
   "cell_type": "markdown",
   "id": "ee540530",
   "metadata": {},
   "source": [
    "Основная описательная статистика\n",
    "Для просмотра числовых данных, надо исключить Артикул"
   ]
  },
  {
   "cell_type": "code",
   "execution_count": 94,
   "id": "f4e6dc5f",
   "metadata": {},
   "outputs": [
    {
     "data": {
      "text/html": [
       "<div>\n",
       "<style scoped>\n",
       "    .dataframe tbody tr th:only-of-type {\n",
       "        vertical-align: middle;\n",
       "    }\n",
       "\n",
       "    .dataframe tbody tr th {\n",
       "        vertical-align: top;\n",
       "    }\n",
       "\n",
       "    .dataframe thead th {\n",
       "        text-align: right;\n",
       "    }\n",
       "</style>\n",
       "<table border=\"1\" class=\"dataframe\">\n",
       "  <thead>\n",
       "    <tr style=\"text-align: right;\">\n",
       "      <th></th>\n",
       "      <th>Кол-во звезд</th>\n",
       "      <th>Кол-во оценок</th>\n",
       "      <th>Общая оценка товара</th>\n",
       "      <th>Текущая цена до скидки</th>\n",
       "      <th>Текущая цена после скидки</th>\n",
       "      <th>Дата</th>\n",
       "    </tr>\n",
       "  </thead>\n",
       "  <tbody>\n",
       "    <tr>\n",
       "      <th>count</th>\n",
       "      <td>44933.000000</td>\n",
       "      <td>44933.00000</td>\n",
       "      <td>44933.000000</td>\n",
       "      <td>44933.000000</td>\n",
       "      <td>44933.000000</td>\n",
       "      <td>44933</td>\n",
       "    </tr>\n",
       "    <tr>\n",
       "      <th>mean</th>\n",
       "      <td>4.696326</td>\n",
       "      <td>3409.38070</td>\n",
       "      <td>4.896495</td>\n",
       "      <td>2057.461509</td>\n",
       "      <td>956.862017</td>\n",
       "      <td>2024-12-12 12:42:58.796207616</td>\n",
       "    </tr>\n",
       "    <tr>\n",
       "      <th>min</th>\n",
       "      <td>1.000000</td>\n",
       "      <td>4.00000</td>\n",
       "      <td>4.300000</td>\n",
       "      <td>140.000000</td>\n",
       "      <td>125.000000</td>\n",
       "      <td>2020-10-11 21:14:00</td>\n",
       "    </tr>\n",
       "    <tr>\n",
       "      <th>25%</th>\n",
       "      <td>5.000000</td>\n",
       "      <td>1221.00000</td>\n",
       "      <td>4.900000</td>\n",
       "      <td>934.000000</td>\n",
       "      <td>571.000000</td>\n",
       "      <td>2024-07-17 14:44:00</td>\n",
       "    </tr>\n",
       "    <tr>\n",
       "      <th>50%</th>\n",
       "      <td>5.000000</td>\n",
       "      <td>2227.00000</td>\n",
       "      <td>4.900000</td>\n",
       "      <td>1509.000000</td>\n",
       "      <td>896.000000</td>\n",
       "      <td>2025-03-28 17:03:00</td>\n",
       "    </tr>\n",
       "    <tr>\n",
       "      <th>75%</th>\n",
       "      <td>5.000000</td>\n",
       "      <td>4997.00000</td>\n",
       "      <td>4.900000</td>\n",
       "      <td>2335.000000</td>\n",
       "      <td>1234.000000</td>\n",
       "      <td>2025-07-24 19:15:00</td>\n",
       "    </tr>\n",
       "    <tr>\n",
       "      <th>max</th>\n",
       "      <td>5.000000</td>\n",
       "      <td>16850.00000</td>\n",
       "      <td>5.000000</td>\n",
       "      <td>14472.000000</td>\n",
       "      <td>3092.000000</td>\n",
       "      <td>2025-09-15 21:24:00</td>\n",
       "    </tr>\n",
       "    <tr>\n",
       "      <th>std</th>\n",
       "      <td>0.884516</td>\n",
       "      <td>3255.78804</td>\n",
       "      <td>0.082815</td>\n",
       "      <td>2041.314463</td>\n",
       "      <td>506.429305</td>\n",
       "      <td>NaN</td>\n",
       "    </tr>\n",
       "  </tbody>\n",
       "</table>\n",
       "</div>"
      ],
      "text/plain": [
       "       Кол-во звезд  Кол-во оценок  Общая оценка товара  \\\n",
       "count  44933.000000    44933.00000         44933.000000   \n",
       "mean       4.696326     3409.38070             4.896495   \n",
       "min        1.000000        4.00000             4.300000   \n",
       "25%        5.000000     1221.00000             4.900000   \n",
       "50%        5.000000     2227.00000             4.900000   \n",
       "75%        5.000000     4997.00000             4.900000   \n",
       "max        5.000000    16850.00000             5.000000   \n",
       "std        0.884516     3255.78804             0.082815   \n",
       "\n",
       "       Текущая цена до скидки  Текущая цена после скидки  \\\n",
       "count            44933.000000               44933.000000   \n",
       "mean              2057.461509                 956.862017   \n",
       "min                140.000000                 125.000000   \n",
       "25%                934.000000                 571.000000   \n",
       "50%               1509.000000                 896.000000   \n",
       "75%               2335.000000                1234.000000   \n",
       "max              14472.000000                3092.000000   \n",
       "std               2041.314463                 506.429305   \n",
       "\n",
       "                                Дата  \n",
       "count                          44933  \n",
       "mean   2024-12-12 12:42:58.796207616  \n",
       "min              2020-10-11 21:14:00  \n",
       "25%              2024-07-17 14:44:00  \n",
       "50%              2025-03-28 17:03:00  \n",
       "75%              2025-07-24 19:15:00  \n",
       "max              2025-09-15 21:24:00  \n",
       "std                              NaN  "
      ]
     },
     "execution_count": 94,
     "metadata": {},
     "output_type": "execute_result"
    }
   ],
   "source": [
    "df_review.loc[:,df_review.columns!='Артикул'].describe()"
   ]
  },
  {
   "cell_type": "markdown",
   "id": "c008eab0",
   "metadata": {},
   "source": [
    "- Нет выбросов. Лушче Кол-во звезд и дату смотреть как нечисловые данные"
   ]
  },
  {
   "cell_type": "markdown",
   "id": "43d720f7",
   "metadata": {},
   "source": [
    "Оценка 5 чаще всего встречается"
   ]
  },
  {
   "cell_type": "code",
   "execution_count": 95,
   "id": "c36767e8",
   "metadata": {},
   "outputs": [
    {
     "data": {
      "text/plain": [
       "count     44933\n",
       "unique        5\n",
       "top           5\n",
       "freq      38898\n",
       "Name: Кол-во звезд, dtype: object"
      ]
     },
     "execution_count": 95,
     "metadata": {},
     "output_type": "execute_result"
    }
   ],
   "source": [
    "df_review['Кол-во звезд'].astype(str).describe()"
   ]
  },
  {
   "cell_type": "markdown",
   "id": "d13f2ffc",
   "metadata": {},
   "source": [
    "14 сентября 2025 было больше всего отзывов"
   ]
  },
  {
   "cell_type": "code",
   "execution_count": 96,
   "id": "477f78bc",
   "metadata": {},
   "outputs": [
    {
     "data": {
      "text/plain": [
       "count          44933\n",
       "unique          1380\n",
       "top       2025-09-14\n",
       "freq             380\n",
       "Name: Дата, dtype: object"
      ]
     },
     "execution_count": 96,
     "metadata": {},
     "output_type": "execute_result"
    }
   ],
   "source": [
    "df_review['Дата'].dt.date.describe()"
   ]
  },
  {
   "cell_type": "code",
   "execution_count": 113,
   "id": "0f31978e",
   "metadata": {},
   "outputs": [
    {
     "name": "stderr",
     "output_type": "stream",
     "text": [
      "c:\\Users\\Oktyabrina\\AppData\\Local\\Programs\\Python\\Python310\\lib\\site-packages\\seaborn\\_oldcore.py:1119: FutureWarning: use_inf_as_na option is deprecated and will be removed in a future version. Convert inf values to NaN before operating instead.\n",
      "  with pd.option_context('mode.use_inf_as_na', True):\n"
     ]
    },
    {
     "data": {
      "image/png": "[encoded data removed]",
      "text/plain": [
       "<Figure size 700x500 with 1 Axes>"
      ]
     },
     "metadata": {},
     "output_type": "display_data"
    }
   ],
   "source": [
    "plt.figure(figsize=(7,5))\n",
    "sns.histplot(x=df_review['Дата'].dt.to_period('M').dt.to_timestamp(), kde=True)\n",
    "plt.show()"
   ]
  },
  {
   "cell_type": "markdown",
   "id": "c966084e",
   "metadata": {},
   "source": [
    "Много анонимных отзывов. Чаще всего отзывы оставляют покупатели, которые выкупили товар. Бренд Мираторг встречается чаще всего"
   ]
  },
  {
   "cell_type": "code",
   "execution_count": 114,
   "id": "4798f329",
   "metadata": {},
   "outputs": [
    {
     "data": {
      "text/html": [
       "<div>\n",
       "<style scoped>\n",
       "    .dataframe tbody tr th:only-of-type {\n",
       "        vertical-align: middle;\n",
       "    }\n",
       "\n",
       "    .dataframe tbody tr th {\n",
       "        vertical-align: top;\n",
       "    }\n",
       "\n",
       "    .dataframe thead th {\n",
       "        text-align: right;\n",
       "    }\n",
       "</style>\n",
       "<table border=\"1\" class=\"dataframe\">\n",
       "  <thead>\n",
       "    <tr style=\"text-align: right;\">\n",
       "      <th></th>\n",
       "      <th>Автор</th>\n",
       "      <th>Статус заказа</th>\n",
       "      <th>Текст отзыва</th>\n",
       "      <th>Бренд</th>\n",
       "      <th>Наименование</th>\n",
       "    </tr>\n",
       "  </thead>\n",
       "  <tbody>\n",
       "    <tr>\n",
       "      <th>count</th>\n",
       "      <td>44933</td>\n",
       "      <td>44933</td>\n",
       "      <td>44933</td>\n",
       "      <td>44933</td>\n",
       "      <td>44933</td>\n",
       "    </tr>\n",
       "    <tr>\n",
       "      <th>unique</th>\n",
       "      <td>2623</td>\n",
       "      <td>4</td>\n",
       "      <td>33431</td>\n",
       "      <td>59</td>\n",
       "      <td>180</td>\n",
       "    </tr>\n",
       "    <tr>\n",
       "      <th>top</th>\n",
       "      <td>Покупатель Wildberries</td>\n",
       "      <td>Выкупили</td>\n",
       "      <td>Плюсы товарапонравилось питомцу</td>\n",
       "      <td>Мираторг</td>\n",
       "      <td>Сухой корм для кошек с чувствительным пищеваре...</td>\n",
       "    </tr>\n",
       "    <tr>\n",
       "      <th>freq</th>\n",
       "      <td>4990</td>\n",
       "      <td>30139</td>\n",
       "      <td>3302</td>\n",
       "      <td>6339</td>\n",
       "      <td>1075</td>\n",
       "    </tr>\n",
       "  </tbody>\n",
       "</table>\n",
       "</div>"
      ],
      "text/plain": [
       "                         Автор Статус заказа                     Текст отзыва  \\\n",
       "count                    44933         44933                            44933   \n",
       "unique                    2623             4                            33431   \n",
       "top     Покупатель Wildberries      Выкупили  Плюсы товарапонравилось питомцу   \n",
       "freq                      4990         30139                             3302   \n",
       "\n",
       "           Бренд                                       Наименование  \n",
       "count      44933                                              44933  \n",
       "unique        59                                                180  \n",
       "top     Мираторг  Сухой корм для кошек с чувствительным пищеваре...  \n",
       "freq        6339                                               1075  "
      ]
     },
     "execution_count": 114,
     "metadata": {},
     "output_type": "execute_result"
    }
   ],
   "source": [
    "df_review.describe(include=[\"object\", \"bool\"])"
   ]
  },
  {
   "cell_type": "markdown",
   "id": "e810b83c",
   "metadata": {},
   "source": [
    "# EDA"
   ]
  },
  {
   "cell_type": "markdown",
   "id": "568acb2a",
   "metadata": {},
   "source": [
    "Гипотезы:\n",
    "1. Чем выше оценка, тем чаще в отзыве чаще встречаются слова \"хорошо\" \"отлично\"\n",
    "2. Чем ниже оценка, тем чаще в отзыве чаще встречаются слова \"плохо\" \"ужасно\"\n"
   ]
  },
  {
   "cell_type": "markdown",
   "id": "aef6af09",
   "metadata": {},
   "source": [
    "Гипотеза 1. Чем выше оценка, тем чаще в отзыве чаще встречаются слова \"хорошо\" \"отлично\""
   ]
  },
  {
   "cell_type": "code",
   "execution_count": 116,
   "id": "b52403eb",
   "metadata": {},
   "outputs": [],
   "source": [
    "df_review['Текст отзыва']=df_review['Текст отзыва'].str.lower()\n",
    "df_review['Have_positive_words'] = df_review['Текст отзыва'].str.contains(\"хорош|отличн\", regex=True)"
   ]
  },
  {
   "cell_type": "code",
   "execution_count": 117,
   "id": "5ce08551",
   "metadata": {},
   "outputs": [
    {
     "data": {
      "image/png": "[encoded data removed]",
      "text/plain": [
       "<Figure size 700x500 with 1 Axes>"
      ]
     },
     "metadata": {},
     "output_type": "display_data"
    }
   ],
   "source": [
    "plt.figure(figsize=(7,5))\n",
    "sns.countplot(data=df_review, x='Кол-во звезд', hue='Have_positive_words')\n",
    "plt.ylabel('Кол-во отзывов')\n",
    "plt.title('Отзывы с позитвными словами по оценкам')\n",
    "plt.show()"
   ]
  },
  {
   "cell_type": "code",
   "execution_count": 118,
   "id": "c9c657f6",
   "metadata": {},
   "outputs": [
    {
     "data": {
      "image/png": "[encoded data removed]",
      "text/plain": [
       "<Figure size 700x500 with 1 Axes>"
      ]
     },
     "metadata": {},
     "output_type": "display_data"
    }
   ],
   "source": [
    "plt.figure(figsize=(7,5))\n",
    "sns.barplot(data=df_review, x='Кол-во звезд', y='Have_positive_words', estimator='mean', errorbar=None\n",
    ")\n",
    "plt.ylabel('Доля отзывов с позитивными словами')\n",
    "plt.title('Частота отзывов с позитивными словами по оценкам')\n",
    "plt.show()"
   ]
  },
  {
   "cell_type": "markdown",
   "id": "587fafde",
   "metadata": {},
   "source": [
    "- по графикам видно, что отзывы со словами \"хорошо\" или \"отлично\" встречаются чаще всего у отзывов с высокой оценкой"
   ]
  },
  {
   "cell_type": "markdown",
   "id": "d4a467e4",
   "metadata": {},
   "source": [
    "Гипотеза 2. Чем ниже оценка, тем чаще в отзыве чаще встречаются слова \"плохо\" \"ужасно\""
   ]
  },
  {
   "cell_type": "code",
   "execution_count": 119,
   "id": "cf875e50",
   "metadata": {},
   "outputs": [],
   "source": [
    "df_review['Have_negative_words'] = df_review['Текст отзыва'].str.contains(\"плох|ужасн\", regex=True)"
   ]
  },
  {
   "cell_type": "code",
   "execution_count": 120,
   "id": "4d3b8d3e",
   "metadata": {},
   "outputs": [
    {
     "data": {
      "image/png": "[encoded data removed]",
      "text/plain": [
       "<Figure size 700x500 with 1 Axes>"
      ]
     },
     "metadata": {},
     "output_type": "display_data"
    }
   ],
   "source": [
    "plt.figure(figsize=(7,5))\n",
    "sns.countplot(data=df_review, x='Кол-во звезд', hue='Have_negative_words')\n",
    "plt.ylabel('Количество отзывов')\n",
    "plt.title('Отзывы с негативными словами по оценкам')\n",
    "plt.show()"
   ]
  },
  {
   "cell_type": "code",
   "execution_count": 121,
   "id": "7f07f4a1",
   "metadata": {},
   "outputs": [
    {
     "data": {
      "image/png": "[encoded data removed]",
      "text/plain": [
       "<Figure size 700x500 with 1 Axes>"
      ]
     },
     "metadata": {},
     "output_type": "display_data"
    }
   ],
   "source": [
    "plt.figure(figsize=(7,5))\n",
    "sns.barplot(data=df_review, x='Кол-во звезд', y='Have_negative_words', estimator='mean', errorbar=None\n",
    ")\n",
    "plt.ylabel('Доля отзывов с негативными словами')\n",
    "plt.title('Частота отзывов с негативными словами по оценкам')\n",
    "plt.show()"
   ]
  },
  {
   "cell_type": "markdown",
   "id": "eeef3773",
   "metadata": {},
   "source": [
    "- Гипотеза о том, что в отзывах с низкой оценкой чаще встречаются негативные слова - не подтвердилась"
   ]
  }
 ],
 "metadata": {
  "kernelspec": {
   "display_name": "Python 3",
   "language": "python",
   "name": "python3"
  },
  "language_info": {
   "codemirror_mode": {
    "name": "ipython",
    "version": 3
   },
   "file_extension": ".py",
   "mimetype": "text/x-python",
   "name": "python",
   "nbconvert_exporter": "python",
   "pygments_lexer": "ipython3",
   "version": "3.10.11"
  }
 },
 "nbformat": 4,
 "nbformat_minor": 5
}
